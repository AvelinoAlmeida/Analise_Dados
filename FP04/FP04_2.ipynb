{
 "cells": [
  {
   "cell_type": "markdown",
   "metadata": {},
   "source": [
    "#Exercício 2:\n",
    "\n",
    "- Modelo de Regressão e Classificação com o Dataset Titanic"
   ]
  },
  {
   "cell_type": "code",
   "execution_count": 1,
   "metadata": {},
   "outputs": [
    {
     "name": "stdout",
     "output_type": "stream",
     "text": [
      "Checking whether there is an H2O instance running at http://localhost:54321. connected.\n"
     ]
    },
    {
     "data": {
      "text/html": [
       "\n",
       "<style>\n",
       "\n",
       "#h2o-table-1.h2o-container {\n",
       "  overflow-x: auto;\n",
       "}\n",
       "#h2o-table-1 .h2o-table {\n",
       "  /* width: 100%; */\n",
       "  margin-top: 1em;\n",
       "  margin-bottom: 1em;\n",
       "}\n",
       "#h2o-table-1 .h2o-table caption {\n",
       "  white-space: nowrap;\n",
       "  caption-side: top;\n",
       "  text-align: left;\n",
       "  /* margin-left: 1em; */\n",
       "  margin: 0;\n",
       "  font-size: larger;\n",
       "}\n",
       "#h2o-table-1 .h2o-table thead {\n",
       "  white-space: nowrap; \n",
       "  position: sticky;\n",
       "  top: 0;\n",
       "  box-shadow: 0 -1px inset;\n",
       "}\n",
       "#h2o-table-1 .h2o-table tbody {\n",
       "  overflow: auto;\n",
       "}\n",
       "#h2o-table-1 .h2o-table th,\n",
       "#h2o-table-1 .h2o-table td {\n",
       "  text-align: right;\n",
       "  /* border: 1px solid; */\n",
       "}\n",
       "#h2o-table-1 .h2o-table tr:nth-child(even) {\n",
       "  /* background: #F5F5F5 */\n",
       "}\n",
       "\n",
       "</style>      \n",
       "<div id=\"h2o-table-1\" class=\"h2o-container\">\n",
       "  <table class=\"h2o-table\">\n",
       "    <caption></caption>\n",
       "    <thead></thead>\n",
       "    <tbody><tr><td>H2O_cluster_uptime:</td>\n",
       "<td>1 hour 36 mins</td></tr>\n",
       "<tr><td>H2O_cluster_timezone:</td>\n",
       "<td>Europe/Lisbon</td></tr>\n",
       "<tr><td>H2O_data_parsing_timezone:</td>\n",
       "<td>UTC</td></tr>\n",
       "<tr><td>H2O_cluster_version:</td>\n",
       "<td>3.46.0.6</td></tr>\n",
       "<tr><td>H2O_cluster_version_age:</td>\n",
       "<td>10 days</td></tr>\n",
       "<tr><td>H2O_cluster_name:</td>\n",
       "<td>H2O_from_python_avlal_rc0d8l</td></tr>\n",
       "<tr><td>H2O_cluster_total_nodes:</td>\n",
       "<td>1</td></tr>\n",
       "<tr><td>H2O_cluster_free_memory:</td>\n",
       "<td>7.910 Gb</td></tr>\n",
       "<tr><td>H2O_cluster_total_cores:</td>\n",
       "<td>16</td></tr>\n",
       "<tr><td>H2O_cluster_allowed_cores:</td>\n",
       "<td>16</td></tr>\n",
       "<tr><td>H2O_cluster_status:</td>\n",
       "<td>locked, healthy</td></tr>\n",
       "<tr><td>H2O_connection_url:</td>\n",
       "<td>http://localhost:54321</td></tr>\n",
       "<tr><td>H2O_connection_proxy:</td>\n",
       "<td>{\"http\": null, \"https\": null}</td></tr>\n",
       "<tr><td>H2O_internal_security:</td>\n",
       "<td>False</td></tr>\n",
       "<tr><td>Python_version:</td>\n",
       "<td>3.13.0 final</td></tr></tbody>\n",
       "  </table>\n",
       "</div>\n"
      ],
      "text/plain": [
       "--------------------------  -----------------------------\n",
       "H2O_cluster_uptime:         1 hour 36 mins\n",
       "H2O_cluster_timezone:       Europe/Lisbon\n",
       "H2O_data_parsing_timezone:  UTC\n",
       "H2O_cluster_version:        3.46.0.6\n",
       "H2O_cluster_version_age:    10 days\n",
       "H2O_cluster_name:           H2O_from_python_avlal_rc0d8l\n",
       "H2O_cluster_total_nodes:    1\n",
       "H2O_cluster_free_memory:    7.910 Gb\n",
       "H2O_cluster_total_cores:    16\n",
       "H2O_cluster_allowed_cores:  16\n",
       "H2O_cluster_status:         locked, healthy\n",
       "H2O_connection_url:         http://localhost:54321\n",
       "H2O_connection_proxy:       {\"http\": null, \"https\": null}\n",
       "H2O_internal_security:      False\n",
       "Python_version:             3.13.0 final\n",
       "--------------------------  -----------------------------"
      ]
     },
     "metadata": {},
     "output_type": "display_data"
    }
   ],
   "source": [
    "\n",
    "import h2o\n",
    "from h2o.estimators import H2OGeneralizedLinearEstimator, H2ORandomForestEstimator\n",
    "\n",
    "# Inicializar H2O\n",
    "h2o.init()"
   ]
  },
  {
   "cell_type": "code",
   "execution_count": 2,
   "metadata": {},
   "outputs": [
    {
     "name": "stdout",
     "output_type": "stream",
     "text": [
      "Parse progress: |████████████████████████████████████████████████████████████████| (done) 100%\n",
      "Nomes das colunas: ['PassengerId', 'Survived', 'Pclass', 'Name', 'Sex', 'Age', 'SibSp', 'Parch', 'Ticket', 'Fare', 'Cabin', 'Embarked']\n"
     ]
    }
   ],
   "source": [
    "# Carregar e preparar o dataset Titanic\n",
    "\n",
    "data_titanic = h2o.import_file(\"..\\\\data\\\\titanic.csv\" )\n",
    "print(\"Nomes das colunas:\", data_titanic.columns)\n"
   ]
  },
  {
   "cell_type": "code",
   "execution_count": 3,
   "metadata": {},
   "outputs": [],
   "source": [
    "# Definir a variável alvo e preditoras\n",
    "target = \"Survived\"\n",
    "predictors = [col for col in data_titanic.columns if col != target]\n",
    "\n",
    "# Converter a variável alvo para numérica para o modelo de regressão\n",
    "data_titanic[target] = data_titanic[target].asnumeric()\n",
    "\n",
    "# Dividir em treino e teste\n",
    "train, test = data_titanic.split_frame([0.75], seed=42)"
   ]
  },
  {
   "cell_type": "code",
   "execution_count": 4,
   "metadata": {},
   "outputs": [
    {
     "name": "stderr",
     "output_type": "stream",
     "text": [
      "c:\\Users\\avlal\\AppData\\Local\\Programs\\Python\\Python313\\Lib\\site-packages\\h2o\\estimators\\estimator_base.py:192: RuntimeWarning: Dropping bad and constant columns: [Name]\n",
      "  warnings.warn(mesg[\"message\"], RuntimeWarning)\n",
      "c:\\Users\\avlal\\AppData\\Local\\Programs\\Python\\Python313\\Lib\\site-packages\\h2o\\estimators\\estimator_base.py:192: RuntimeWarning: We have detected that your response column has only 2 unique values (0/1). If you wish to train a binary model instead of a regression model, convert your target column to categorical before training.\n",
      "  warnings.warn(mesg[\"message\"], RuntimeWarning)\n"
     ]
    },
    {
     "name": "stdout",
     "output_type": "stream",
     "text": [
      "glm Model Build progress: |██████████████████████████████████████████████████████| (done) 100%\n",
      "Resultados do Modelo de Regressão:\n",
      "ModelMetricsRegressionGLM: glm\n",
      "** Reported on test data. **\n",
      "\n",
      "MSE: 0.1443717009796068\n",
      "RMSE: 0.379962762622348\n",
      "MAE: 0.323919350189945\n",
      "RMSLE: 0.2686458882704097\n",
      "Mean Residual Deviance: 0.1443717009796068\n",
      "R^2: 0.402228713363291\n",
      "Null degrees of freedom: 227\n",
      "Residual degrees of freedom: 219\n",
      "Null deviance: 55.30408877787105\n",
      "Residual deviance: 32.91674782335035\n",
      "AIC: 225.77296812326398\n"
     ]
    }
   ],
   "source": [
    "# Modelo de Regressão\n",
    "\n",
    "model_regression = H2OGeneralizedLinearEstimator(family=\"gaussian\")\n",
    "model_regression.train(x=predictors, y=target, training_frame=train)\n",
    "performance_regression = model_regression.model_performance(test)\n",
    "print(\"Resultados do Modelo de Regressão:\")\n",
    "print(performance_regression)"
   ]
  },
  {
   "cell_type": "code",
   "execution_count": 5,
   "metadata": {},
   "outputs": [
    {
     "name": "stdout",
     "output_type": "stream",
     "text": [
      "Parse progress: |████████████████████████████████████████████████████████████████| (done) 100%\n"
     ]
    }
   ],
   "source": [
    "# Recarregar o dataset para garantir que a coluna está intacta\n",
    "data_titanic = h2o.import_file(\"..\\\\data\\\\titanic.csv\" )\n",
    "\n",
    "# Converter a variável alvo para fator para o modelo de classificação\n",
    "data_titanic[target] = data_titanic[target].ascharacter().asfactor()\n",
    "\n",
    "# Dividir em treino e teste novamente para o modelo de classificação\n",
    "train, test = data_titanic.split_frame([0.75], seed=42)"
   ]
  },
  {
   "cell_type": "code",
   "execution_count": 6,
   "metadata": {},
   "outputs": [
    {
     "name": "stdout",
     "output_type": "stream",
     "text": [
      "drf Model Build progress: |██████████████████████████████████████████████████████| (done) 100%\n",
      "\n",
      "Resultados do Modelo de Classificação:\n",
      "ModelMetricsBinomial: drf\n",
      "** Reported on test data. **\n",
      "\n",
      "MSE: 0.138176098127102\n",
      "RMSE: 0.3717204569661212\n",
      "LogLoss: 0.4419274883968322\n",
      "Mean Per-Class Error: 0.18434886499402628\n",
      "AUC: 0.8733174034249302\n",
      "AUCPR: 0.8602379439108375\n",
      "Gini: 0.7466348068498605\n",
      "\n",
      "Confusion Matrix (Act/Pred) for max f1 @ threshold = 0.4086468636989593\n",
      "       0    1    Error    Rate\n",
      "-----  ---  ---  -------  ------------\n",
      "0      107  28   0.2074   (28.0/135.0)\n",
      "1      15   78   0.1613   (15.0/93.0)\n",
      "Total  122  106  0.1886   (43.0/228.0)\n",
      "\n",
      "Maximum Metrics: Maximum metrics at their respective thresholds\n",
      "metric                       threshold    value     idx\n",
      "---------------------------  -----------  --------  -----\n",
      "max f1                       0.408647     0.78392   86\n",
      "max f2                       0.268095     0.82996   102\n",
      "max f0point5                 0.770314     0.809969  40\n",
      "max accuracy                 0.455267     0.811404  82\n",
      "max precision                0.999596     1         0\n",
      "max recall                   0.000833334  1         193\n",
      "max specificity              0.999596     1         0\n",
      "max absolute_mcc             0.408647     0.622032  86\n",
      "max min_per_class_accuracy   0.455267     0.807407  82\n",
      "max mean_per_class_accuracy  0.408647     0.815651  86\n",
      "max tns                      0.999596     135       0\n",
      "max fns                      0.999596     87        0\n",
      "max fps                      0            135       195\n",
      "max tps                      0.000833334  93        193\n",
      "max tnr                      0.999596     1         0\n",
      "max fnr                      0.999596     0.935484  0\n",
      "max fpr                      0            1         195\n",
      "max tpr                      0.000833334  1         193\n",
      "\n",
      "Gains/Lift Table: Avg response rate: 40,79 %, avg score: 43,38 %\n",
      "group    cumulative_data_fraction    lower_threshold    lift      cumulative_lift    response_rate    score      cumulative_response_rate    cumulative_score    capture_rate    cumulative_capture_rate    gain      cumulative_gain    kolmogorov_smirnov\n",
      "-------  --------------------------  -----------------  --------  -----------------  ---------------  ---------  --------------------------  ------------------  --------------  -------------------------  --------  -----------------  --------------------\n",
      "1        0.0263158                   0.999596           2.45161   2.45161            1                0.999596   1                           0.999596            0.0645161       0.0645161                  145.161   145.161            0.0645161\n",
      "2        0.0350877                   0.998485           2.45161   2.45161            1                0.998485   1                           0.999318            0.0215054       0.0860215                  145.161   145.161            0.0860215\n",
      "3        0.0482456                   0.997374           2.45161   2.45161            1                0.997374   1                           0.998788            0.0322581       0.11828                    145.161   145.161            0.11828\n",
      "4        0.0526316                   0.986096           2.45161   2.45161            1                0.989596   1                           0.998022            0.0107527       0.129032                   145.161   145.161            0.129032\n",
      "5        0.100877                    0.941667           2.45161   2.45161            1                0.966752   1                           0.983067            0.11828         0.247312                   145.161   145.161            0.247312\n",
      "6        0.153509                    0.859619           2.45161   2.45161            1                0.909985   1                           0.95801             0.129032        0.376344                   145.161   145.161            0.376344\n",
      "7        0.201754                    0.824              1.78299   2.29173            0.727273         0.83804    0.934783                    0.929321            0.0860215       0.462366                   78.2991   129.173            0.440143\n",
      "8        0.302632                    0.717103           1.59888   2.06078            0.652174         0.7651     0.84058                     0.874581            0.16129         0.623656                   59.8878   106.078            0.542174\n",
      "9        0.407895                    0.579596           1.22581   1.8453             0.5              0.642878   0.752688                    0.814787            0.129032        0.752688                   22.5806   84.53              0.582318\n",
      "10       0.5                         0.311109           1.05069   1.69892            0.428571         0.440261   0.692982                    0.745795            0.0967742       0.849462                   5.06912   69.8925            0.590203\n",
      "11       0.600877                    0.200804           0.532959  1.50318            0.217391         0.254387   0.613139                    0.663296            0.0537634       0.903226                   -46.7041  50.3179            0.510633\n",
      "12       0.697368                    0.130963           0.334311  1.34145            0.136364         0.164129   0.54717                     0.594229            0.0322581       0.935484                   -66.5689  34.1449            0.402151\n",
      "13       0.798246                    0.0862548          0.106592  1.1854             0.0434783        0.109044   0.483516                    0.532914            0.0107527       0.946237                   -89.3408  18.5395            0.24994\n",
      "14       0.899123                    0.0412303          0.426367  1.10024            0.173913         0.0659405  0.44878                     0.480522            0.0430108       0.989247                   -57.3633  10.0236            0.15221\n",
      "15       1                           0                  0.106592  1                  0.0434783        0.0170311  0.407895                    0.433766            0.0107527       1                          -89.3408  0                  0\n"
     ]
    }
   ],
   "source": [
    "# Treinar o modelo de classificação\n",
    "\n",
    "model_classification = H2ORandomForestEstimator(seed=42)\n",
    "model_classification.train(x=predictors, y=target, training_frame=train)\n",
    "performance_classification = model_classification.model_performance(test)\n",
    "print(\"\\nResultados do Modelo de Classificação:\")\n",
    "print(performance_classification)"
   ]
  },
  {
   "cell_type": "markdown",
   "metadata": {},
   "source": [
    "## Análise de Utilidade e Performance dos Modelos\n",
    "\n",
    "Para determinar qual dos modelos é mais útil e apresenta melhor performance preditiva, analisamos suas características em relação ao objetivo do exercício.\n",
    "\n",
    "### 1. Utilidade dos Modelos\n",
    "   - **Modelo de Regressão**: Este modelo prevê um valor contínuo, que pode ser interpretado como uma probabilidade de sobrevivência. Ele é útil se estivermos interessados em uma medida da \"intensidade\" com que um passageiro teria chances de sobreviver. No entanto, para um problema de classificação binária (como prever sobrevivência `sim/não`), a utilidade desse modelo é limitada, pois não fornece uma resposta categórica direta.\n",
    "   - **Modelo de Classificação**: O modelo de classificação é mais apropriado para problemas binários, como este, onde queremos prever uma categoria (sobreviveu ou não). Este modelo fornece uma probabilidade de pertencer a cada classe, permitindo uma decisão clara, o que torna o modelo de classificação mais útil para prever a sobrevivência dos passageiros.\n",
    "\n",
    "### 2. Performance Preditiva\n",
    "   - A performance dos modelos pode ser comparada com métricas como **AUC** (Área Sob a Curva), **Log Loss** e **Accuracy**.\n",
    "   - O **AUC** é especialmente útil para modelos de classificação, pois mede a capacidade do modelo de distinguir entre classes. Em problemas de classificação binária, essa métrica indica a eficácia do modelo em prever a classe correta.\n",
    "   - Para determinar o melhor modelo em termos de performance, deve-se observar qual apresenta o maior **AUC** e o menor **Log Loss** no conjunto de teste. A **Accuracy** também é relevante se o foco for a taxa de predições corretas, embora o AUC seja, em geral, mais informativo para avaliar classificadores.\n",
    "\n",
    "### Conclusão Recomendada\n",
    "- **Modelo Mais Útil**: O modelo de classificação (Random Forest) é o mais útil para o caso em questão, pois gera predições categóricas diretas de sobrevivência.\n",
    "- **Melhor Modelo em Performance**: Avalie as métricas dos dois modelos e selecione aquele com o maior **AUC** (e, se necessário, confirme com a **Accuracy** e **Log Loss**). Para problemas de classificação binária, o modelo de classificação tende a ter uma performance preditiva superior em termos de AUC e precisão categórica em comparação com o modelo de regressão.\n",
    "\n",
    "Em resumo, o modelo de classificação é o mais vantajoso para uma implementação prática, pois alinha-se com o objetivo de prever diretamente se o passageiro sobreviveu ou não.\n"
   ]
  }
 ],
 "metadata": {
  "kernelspec": {
   "display_name": "Python 3",
   "language": "python",
   "name": "python3"
  },
  "language_info": {
   "codemirror_mode": {
    "name": "ipython",
    "version": 3
   },
   "file_extension": ".py",
   "mimetype": "text/x-python",
   "name": "python",
   "nbconvert_exporter": "python",
   "pygments_lexer": "ipython3",
   "version": "3.13.0"
  }
 },
 "nbformat": 4,
 "nbformat_minor": 2
}
