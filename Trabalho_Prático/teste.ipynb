{
 "cells": [
  {
   "cell_type": "code",
   "execution_count": 1,
   "metadata": {},
   "outputs": [],
   "source": [
    "import pandas as pd"
   ]
  },
  {
   "cell_type": "code",
   "execution_count": 2,
   "metadata": {},
   "outputs": [
    {
     "data": {
      "text/html": [
       "<div>\n",
       "<style scoped>\n",
       "    .dataframe tbody tr th:only-of-type {\n",
       "        vertical-align: middle;\n",
       "    }\n",
       "\n",
       "    .dataframe tbody tr th {\n",
       "        vertical-align: top;\n",
       "    }\n",
       "\n",
       "    .dataframe thead th {\n",
       "        text-align: right;\n",
       "    }\n",
       "</style>\n",
       "<table border=\"1\" class=\"dataframe\">\n",
       "  <thead>\n",
       "    <tr style=\"text-align: right;\">\n",
       "      <th></th>\n",
       "      <th>Período</th>\n",
       "      <th>Região</th>\n",
       "      <th>Instituição</th>\n",
       "      <th>Localização Geográfica</th>\n",
       "      <th>Nº Atendimentos em Urgência SU Triagem Manchester -Vermelha</th>\n",
       "      <th>Nº Atendimentos em Urgência SU Triagem Manchester -Laranja</th>\n",
       "      <th>Nº Atendimentos em Urgência SU Triagem Manchester -Amarela</th>\n",
       "      <th>Nº Atendimentos em Urgência SU Triagem Manchester -Verde</th>\n",
       "      <th>Nº Atendimentos em Urgência SU Triagem Manchester -Azul</th>\n",
       "      <th>Nº Atendimentos em Urgência SU Triagem Manchester -Branca</th>\n",
       "      <th>Nº Atendimentos s\\ Triagem Manchester</th>\n",
       "    </tr>\n",
       "  </thead>\n",
       "  <tbody>\n",
       "    <tr>\n",
       "      <th>0</th>\n",
       "      <td>2013-01</td>\n",
       "      <td>Região de Saúde do Alentejo</td>\n",
       "      <td>Unidade Local de Saúde do Norte Alentejano, EPE</td>\n",
       "      <td>39.3003425, -7.4263845</td>\n",
       "      <td>35.0</td>\n",
       "      <td>880.0</td>\n",
       "      <td>2326.0</td>\n",
       "      <td>4441.0</td>\n",
       "      <td>26.0</td>\n",
       "      <td>224.0</td>\n",
       "      <td>25.0</td>\n",
       "    </tr>\n",
       "    <tr>\n",
       "      <th>1</th>\n",
       "      <td>2013-01</td>\n",
       "      <td>Região de Saúde do Centro</td>\n",
       "      <td>Centro Hospitalar Universitário Cova da Beira,...</td>\n",
       "      <td>40.2804158, -7.4922407</td>\n",
       "      <td>10.0</td>\n",
       "      <td>247.0</td>\n",
       "      <td>2802.0</td>\n",
       "      <td>1910.0</td>\n",
       "      <td>15.0</td>\n",
       "      <td>149.0</td>\n",
       "      <td>2099.0</td>\n",
       "    </tr>\n",
       "    <tr>\n",
       "      <th>2</th>\n",
       "      <td>2013-01</td>\n",
       "      <td>Região de Saúde do Centro</td>\n",
       "      <td>Unidade Local de Saúde da Guarda, EPE</td>\n",
       "      <td>40.5309916, -7.2734793</td>\n",
       "      <td>28.0</td>\n",
       "      <td>679.0</td>\n",
       "      <td>2484.0</td>\n",
       "      <td>3375.0</td>\n",
       "      <td>40.0</td>\n",
       "      <td>429.0</td>\n",
       "      <td>321.0</td>\n",
       "    </tr>\n",
       "  </tbody>\n",
       "</table>\n",
       "</div>"
      ],
      "text/plain": [
       "   Período                       Região  \\\n",
       "0  2013-01  Região de Saúde do Alentejo   \n",
       "1  2013-01    Região de Saúde do Centro   \n",
       "2  2013-01    Região de Saúde do Centro   \n",
       "\n",
       "                                         Instituição  Localização Geográfica  \\\n",
       "0    Unidade Local de Saúde do Norte Alentejano, EPE  39.3003425, -7.4263845   \n",
       "1  Centro Hospitalar Universitário Cova da Beira,...  40.2804158, -7.4922407   \n",
       "2              Unidade Local de Saúde da Guarda, EPE  40.5309916, -7.2734793   \n",
       "\n",
       "   Nº Atendimentos em Urgência SU Triagem Manchester -Vermelha  \\\n",
       "0                                               35.0             \n",
       "1                                               10.0             \n",
       "2                                               28.0             \n",
       "\n",
       "   Nº Atendimentos em Urgência SU Triagem Manchester -Laranja  \\\n",
       "0                                              880.0            \n",
       "1                                              247.0            \n",
       "2                                              679.0            \n",
       "\n",
       "   Nº Atendimentos em Urgência SU Triagem Manchester -Amarela  \\\n",
       "0                                             2326.0            \n",
       "1                                             2802.0            \n",
       "2                                             2484.0            \n",
       "\n",
       "   Nº Atendimentos em Urgência SU Triagem Manchester -Verde  \\\n",
       "0                                             4441.0          \n",
       "1                                             1910.0          \n",
       "2                                             3375.0          \n",
       "\n",
       "   Nº Atendimentos em Urgência SU Triagem Manchester -Azul  \\\n",
       "0                                               26.0         \n",
       "1                                               15.0         \n",
       "2                                               40.0         \n",
       "\n",
       "   Nº Atendimentos em Urgência SU Triagem Manchester -Branca  \\\n",
       "0                                              224.0           \n",
       "1                                              149.0           \n",
       "2                                              429.0           \n",
       "\n",
       "   Nº Atendimentos s\\ Triagem Manchester  \n",
       "0                                   25.0  \n",
       "1                                 2099.0  \n",
       "2                                  321.0  "
      ]
     },
     "execution_count": 2,
     "metadata": {},
     "output_type": "execute_result"
    }
   ],
   "source": [
    "# importar e analisar os dataset\n",
    "\n",
    "data = pd.read_csv(\"./data/atendimentos-em-urgencia-triagem-manchester.csv\", sep=';')\n",
    "data.head(3)\n"
   ]
  },
  {
   "cell_type": "code",
   "execution_count": 4,
   "metadata": {},
   "outputs": [
    {
     "name": "stderr",
     "output_type": "stream",
     "text": [
      "Summarize dataset: 100%|██████████| 70/70 [00:11<00:00,  6.04it/s, Completed]                                                                                                                       \n",
      "Generate report structure: 100%|██████████| 1/1 [00:03<00:00,  3.59s/it]\n",
      "Render HTML: 100%|██████████| 1/1 [00:02<00:00,  2.18s/it]\n",
      "Export report to file: 100%|██████████| 1/1 [00:00<00:00, 68.45it/s]\n"
     ]
    }
   ],
   "source": [
    "# ydata-profiling (importar, visualizar, gerar relatorio)\n",
    "from ydata_profiling import ProfileReport\n",
    "profile = ProfileReport(data, title=\"Treino Urgencia\")\n",
    "profile.to_file(\"Treino Urgencias.html\")"
   ]
  }
 ],
 "metadata": {
  "kernelspec": {
   "display_name": "Python 3",
   "language": "python",
   "name": "python3"
  },
  "language_info": {
   "codemirror_mode": {
    "name": "ipython",
    "version": 3
   },
   "file_extension": ".py",
   "mimetype": "text/x-python",
   "name": "python",
   "nbconvert_exporter": "python",
   "pygments_lexer": "ipython3",
   "version": "3.12.7"
  }
 },
 "nbformat": 4,
 "nbformat_minor": 2
}
