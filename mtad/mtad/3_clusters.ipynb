{
 "cells": [
  {
   "cell_type": "markdown",
   "metadata": {},
   "source": [
    "## 📚 1. Importação das Bibliotecas"
   ]
  },
  {
   "cell_type": "code",
   "execution_count": null,
   "metadata": {},
   "outputs": [],
   "source": [
    "import pandas as pd\n",
    "import matplotlib.pyplot as plt\n",
    "import seaborn as sns\n",
    "import numpy as np\n",
    "from sklearn.cluster import KMeans\n"
   ]
  },
  {
   "cell_type": "markdown",
   "metadata": {},
   "source": [
    "## 🔄 2. Carregamento dos Dados"
   ]
  },
  {
   "cell_type": "code",
   "execution_count": null,
   "metadata": {},
   "outputs": [],
   "source": [
    "data_df = pd.read_csv('diabetes_normalizado.csv')"
   ]
  },
  {
   "cell_type": "code",
   "execution_count": null,
   "metadata": {},
   "outputs": [],
   "source": [
    "data_df['Diabetes_binary'].value_counts()"
   ]
  },
  {
   "cell_type": "markdown",
   "metadata": {},
   "source": [
    "# 🗂️ 3. Segmentação"
   ]
  },
  {
   "cell_type": "code",
   "execution_count": null,
   "metadata": {},
   "outputs": [],
   "source": [
    "# predictores e variável dependente\n",
    "predictors = ['HighBP', 'HighChol', 'BMI', 'Smoker', 'Stroke', 'HeartDiseaseorAttack', 'PhysActivity', 'HvyAlcoholConsump', 'GenHlth', 'MentHlth', 'PhysHlth', 'DiffWalk', 'Age', 'Income']\n",
    "target = 'Diabetes_binary'"
   ]
  },
  {
   "cell_type": "code",
   "execution_count": null,
   "metadata": {},
   "outputs": [],
   "source": [
    "data_df.head()"
   ]
  },
  {
   "cell_type": "code",
   "execution_count": null,
   "metadata": {},
   "outputs": [],
   "source": [
    "# número ideal de clusters\n",
    "inertia = []\n",
    "for k in range(1, 10):\n",
    "    kmeans = KMeans(n_clusters=k, random_state=42)\n",
    "    kmeans.fit(data_df)\n",
    "    inertia.append(kmeans.inertia_)\n",
    "\n",
    "# plotar os valores\n",
    "plt.figure(figsize=(10, 10))\n",
    "plt.plot(range(1, 10), inertia, marker='o')\n",
    "plt.title('Inertia Values by Number of Clusters')\n",
    "plt.xlabel('Number of Clusters')\n",
    "plt.ylabel('Inertia')\n",
    "plt.show()"
   ]
  },
  {
   "cell_type": "code",
   "execution_count": null,
   "metadata": {},
   "outputs": [],
   "source": [
    "# criar e treinar o modelo k-means\n",
    "kmeans = KMeans(n_clusters=3, random_state=1234)\n",
    "data_df['Cluster'] = kmeans.fit_predict(data_df[predictors])"
   ]
  },
  {
   "cell_type": "code",
   "execution_count": null,
   "metadata": {},
   "outputs": [],
   "source": [
    "data_df.head()"
   ]
  },
  {
   "cell_type": "code",
   "execution_count": null,
   "metadata": {},
   "outputs": [],
   "source": [
    "# adicionar o número de indivíduos em cada cluster\n",
    "cluster_sizes = data_df['Cluster'].value_counts()\n",
    "cluster_analysis = data_df.groupby('Cluster')[predictors + [target]].mean()\n",
    "cluster_analysis['Nº de Indivíduos'] = cluster_sizes\n",
    "\n",
    "# características/estatísticas médias por cluster\n",
    "print(\"Características médias por cluster:\")\n",
    "print(cluster_analysis)"
   ]
  },
  {
   "cell_type": "code",
   "execution_count": null,
   "metadata": {},
   "outputs": [],
   "source": [
    "# cluster 0 - alto risco de diabetes\n",
    "# cluster 1 - risco baixo de diabetes\n",
    "# cluster 2 - risco moderado de diabetes"
   ]
  },
  {
   "cell_type": "code",
   "execution_count": null,
   "metadata": {},
   "outputs": [],
   "source": [
    "import pandas as pd\n",
    "import joblib\n",
    "\n",
    "# variáveis contínuas e indesejadas\n",
    "continuous_features = ['BMI', 'GenHlth', 'MentHlth', 'PhysHlth', 'Age', 'Education', 'Income']\n",
    "unwanted_features = ['Education']\n",
    "\n",
    "# load do scaler\n",
    "scaler = joblib.load('scaler.pkl')\n",
    "\n",
    "# criar novo paciente exemplo\n",
    "novo_paciente = pd.DataFrame([{\n",
    "    \"HighBP\": 1.0,\n",
    "    \"HighChol\": 1.0,\n",
    "    \"BMI\": 40.0,\n",
    "    \"Smoker\": 1.0,\n",
    "    \"Stroke\": 1.0,\n",
    "    \"HeartDiseaseorAttack\": 1.0,\n",
    "    \"PhysActivity\": 1.0,\n",
    "    \"HvyAlcoholConsump\": 1.0,\n",
    "    \"GenHlth\": 5.0,\n",
    "    \"MentHlth\": 0.0,\n",
    "    \"PhysHlth\": 4.0,\n",
    "    \"DiffWalk\": 1.0,\n",
    "    \"Age\": 11.0,\n",
    "    \"Education\": 1.0,\n",
    "    \"Income\": 2.0,\n",
    "    \n",
    "}])\n",
    "\n",
    "# normalizar variáveis contínuas\n",
    "novo_paciente[continuous_features] = scaler.transform(novo_paciente[continuous_features])\n",
    "\n",
    "# eliminar variáveis indesejadas\n",
    "novo_paciente = novo_paciente.drop(unwanted_features, axis=1)\n",
    "\n",
    "# ver resultado\n",
    "print(novo_paciente)\n"
   ]
  },
  {
   "cell_type": "code",
   "execution_count": null,
   "metadata": {},
   "outputs": [],
   "source": [
    "# ver os valores normalizados\n",
    "print(\"Novo paciente (normalizado):\")\n",
    "print(novo_paciente)\n",
    "\n",
    "# prever o cluster do novo paciente\n",
    "predicted_cluster = kmeans.predict(novo_paciente)\n",
    "\n",
    "print(f\"O novo paciente pertence ao cluster: {predicted_cluster[0]}\")"
   ]
  },
  {
   "cell_type": "code",
   "execution_count": null,
   "metadata": {},
   "outputs": [],
   "source": [
    "# iterar por todas as colunas do dataframe, exceto 'Diabetes_binary'\n",
    "for column in data_df.columns:\n",
    "    plt.figure(figsize=(8, 6))\n",
    "    sns.scatterplot(data=data_df, x=column, y='Diabetes_binary', hue='Cluster', palette='viridis', alpha=0.7)\n",
    "    plt.title(f\"Scatterplot de {column} vs Diabetes_binary\")\n",
    "    plt.xlabel(column)\n",
    "    plt.ylabel(\"Diabetes_binary\")\n",
    "    plt.legend(title=\"Cluster\", loc=\"best\")\n",
    "    plt.show()"
   ]
  },
  {
   "cell_type": "code",
   "execution_count": null,
   "metadata": {},
   "outputs": [],
   "source": [
    "# scaterplot de cluster de BMI vs GenHlth\n",
    "plt.figure(figsize=(8, 6))\n",
    "sns.scatterplot(data=data_df, x='BMI', y='GenHlth', hue='Cluster', palette='viridis', alpha=0.7)\n",
    "plt.title(\"Scatterplot de BMI vs GenHlth\")\n",
    "plt.xlabel(\"BMI\")\n",
    "plt.ylabel(\"GenHlth\")\n",
    "plt.legend(title=\"Cluster\", loc=\"best\")\n",
    "plt.show()\n",
    "\n"
   ]
  },
  {
   "cell_type": "code",
   "execution_count": null,
   "metadata": {},
   "outputs": [],
   "source": [
    "# scaterplot de cluster de BMI vs MentHlth\n",
    "plt.figure(figsize=(8, 6))\n",
    "sns.scatterplot(data=data_df, x='BMI', y='MentHlth', hue='Cluster', palette='viridis', alpha=0.7)\n",
    "plt.title(\"Scatterplot de BMI vs MentHlth\")\n",
    "plt.xlabel(\"BMI\")\n",
    "plt.ylabel(\"MentHlth\")\n",
    "plt.legend(title=\"Cluster\", loc=\"best\")\n",
    "plt.show()\n",
    "\n"
   ]
  },
  {
   "cell_type": "code",
   "execution_count": null,
   "metadata": {},
   "outputs": [],
   "source": [
    "# scaterplot de cluster de BMI vs PhysHlth\n",
    "plt.figure(figsize=(8, 6))\n",
    "sns.scatterplot(data=data_df, x='BMI', y='PhysHlth', hue='Cluster', palette='viridis', alpha=0.7)\n",
    "plt.title(\"Scatterplot de BMI vs PhysHlth\")\n",
    "plt.xlabel(\"BMI\")\n",
    "plt.ylabel(\"PhysHlth\")\n",
    "plt.legend(title=\"Cluster\", loc=\"best\")\n",
    "plt.show()"
   ]
  },
  {
   "cell_type": "code",
   "execution_count": null,
   "metadata": {},
   "outputs": [],
   "source": [
    "# scaterplot de cluster de Income vs PhysHlth\n",
    "plt.figure(figsize=(8, 6))\n",
    "sns.scatterplot(data=data_df, x='Income', y='PhysHlth', hue='Cluster', palette='viridis', alpha=0.7)\n",
    "plt.title(\"Scatterplot de Income vs PhysHlth\")\n",
    "plt.xlabel(\"Income\")\n",
    "plt.ylabel(\"PhysHlth\")\n",
    "plt.legend(title=\"Cluster\", loc=\"best\")\n",
    "plt.show()"
   ]
  },
  {
   "cell_type": "code",
   "execution_count": null,
   "metadata": {},
   "outputs": [],
   "source": [
    "# scaterplot de cluster de Income vs HeartDiseaseorAttack\n",
    "plt.figure(figsize=(8, 6))\n",
    "sns.scatterplot(data=data_df, x='Income', y='HeartDiseaseorAttack', hue='Cluster', palette='viridis', alpha=0.7)\n",
    "plt.title(\"Scatterplot de Income vs HeartDiseaseorAttack\")\n",
    "plt.xlabel(\"Income\")\n",
    "plt.ylabel(\"HeartDiseaseorAttack\")\n",
    "plt.legend(title=\"Cluster\", loc=\"best\")\n",
    "plt.show()"
   ]
  }
 ],
 "metadata": {
  "kernelspec": {
   "display_name": "mtad2",
   "language": "python",
   "name": "python3"
  },
  "language_info": {
   "codemirror_mode": {
    "name": "ipython",
    "version": 3
   },
   "file_extension": ".py",
   "mimetype": "text/x-python",
   "name": "python",
   "nbconvert_exporter": "python",
   "pygments_lexer": "ipython3",
   "version": "3.8.20"
  }
 },
 "nbformat": 4,
 "nbformat_minor": 2
}
