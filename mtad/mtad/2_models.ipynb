{
 "cells": [
  {
   "cell_type": "markdown",
   "metadata": {},
   "source": [
    "## 📚 1. Importação das Bibliotecas"
   ]
  },
  {
   "cell_type": "code",
   "execution_count": 1,
   "metadata": {},
   "outputs": [],
   "source": [
    "import pandas as pd\n",
    "import matplotlib.pyplot as plt\n",
    "import seaborn as sns\n",
    "from sklearn.metrics import confusion_matrix, classification_report\n",
    "from xgboost import XGBClassifier\n",
    "from sklearn.metrics import accuracy_score, classification_report\n",
    "from sklearn.linear_model import LogisticRegression\n",
    "from sklearn.ensemble import RandomForestClassifier\n",
    "from sklearn.ensemble import GradientBoostingClassifier\n",
    "from sklearn.neural_network import MLPClassifier"
   ]
  },
  {
   "cell_type": "markdown",
   "metadata": {},
   "source": [
    "## 🔄 2. Carregamento dos Dados"
   ]
  },
  {
   "cell_type": "code",
   "execution_count": 2,
   "metadata": {},
   "outputs": [],
   "source": [
    "X_train = pd.read_csv('X_train.csv')\n",
    "y_train = pd.read_csv('y_train.csv')\n",
    "X_test = pd.read_csv('X_test.csv')\n",
    "y_test = pd.read_csv('y_test.csv')"
   ]
  },
  {
   "cell_type": "markdown",
   "metadata": {},
   "source": [
    "## 🤖 3. Treino de Modelos"
   ]
  },
  {
   "cell_type": "markdown",
   "metadata": {},
   "source": [
    "### 📈 3.1. Linear Regression"
   ]
  },
  {
   "cell_type": "code",
   "execution_count": 3,
   "metadata": {},
   "outputs": [
    {
     "name": "stderr",
     "output_type": "stream",
     "text": [
      "/opt/homebrew/Caskroom/miniconda/base/envs/mtad2/lib/python3.8/site-packages/sklearn/utils/validation.py:1183: DataConversionWarning: A column-vector y was passed when a 1d array was expected. Please change the shape of y to (n_samples, ), for example using ravel().\n",
      "  y = column_or_1d(y, warn=True)\n"
     ]
    },
    {
     "name": "stdout",
     "output_type": "stream",
     "text": [
      "\n",
      "Logistic Regression\n",
      "Accuracy: 0.741\n",
      "Classification Report:\n",
      "              precision    recall  f1-score   support\n",
      "\n",
      "         0.0       0.77      0.79      0.78     16064\n",
      "         1.0       0.70      0.68      0.69     11920\n",
      "\n",
      "    accuracy                           0.74     27984\n",
      "   macro avg       0.74      0.73      0.73     27984\n",
      "weighted avg       0.74      0.74      0.74     27984\n",
      "\n"
     ]
    }
   ],
   "source": [
    "# criar modelo de regressão\n",
    "logistic_model = LogisticRegression(random_state=42, max_iter=200)\n",
    "\n",
    "# treinar o modelo\n",
    "logistic_model.fit(X_train, y_train)\n",
    "\n",
    "# fazer previsões no conjunto de teste\n",
    "y_pred_logistic = logistic_model.predict(X_test)\n",
    "\n",
    "# avaliar o modelo\n",
    "accuracy_logistic = accuracy_score(y_test, y_pred_logistic)\n",
    "class_report_logistic = classification_report(y_test, y_pred_logistic)\n",
    "\n",
    "# resultados\n",
    "print(\"\\nLogistic Regression\")\n",
    "print(f\"Accuracy: {accuracy_logistic:.3f}\")\n",
    "print(\"Classification Report:\")\n",
    "print(class_report_logistic)"
   ]
  },
  {
   "cell_type": "markdown",
   "metadata": {},
   "source": [
    "### 🌳 3.2. Random Forests"
   ]
  },
  {
   "cell_type": "code",
   "execution_count": 4,
   "metadata": {},
   "outputs": [
    {
     "name": "stderr",
     "output_type": "stream",
     "text": [
      "/opt/homebrew/Caskroom/miniconda/base/envs/mtad2/lib/python3.8/site-packages/sklearn/base.py:1152: DataConversionWarning: A column-vector y was passed when a 1d array was expected. Please change the shape of y to (n_samples,), for example using ravel().\n",
      "  return fit_method(estimator, *args, **kwargs)\n"
     ]
    },
    {
     "name": "stdout",
     "output_type": "stream",
     "text": [
      "\n",
      "Random Forest\n",
      "Accuracy: 0.764\n",
      "Classification Report:\n",
      "              precision    recall  f1-score   support\n",
      "\n",
      "         0.0       0.79      0.80      0.80     16064\n",
      "         1.0       0.73      0.71      0.72     11920\n",
      "\n",
      "    accuracy                           0.76     27984\n",
      "   macro avg       0.76      0.76      0.76     27984\n",
      "weighted avg       0.76      0.76      0.76     27984\n",
      "\n"
     ]
    }
   ],
   "source": [
    "# iniciar o modelo de random forest\n",
    "random_forest_model = RandomForestClassifier(n_estimators=100, max_depth=12, random_state=42)\n",
    "\n",
    "# treinar o modelo\n",
    "random_forest_model.fit(X_train, y_train)\n",
    "\n",
    "# prever os valores para o conjunto de teste\n",
    "y_pred_random_forest = random_forest_model.predict(X_test)\n",
    "\n",
    "# avaliar o modelo\n",
    "accuracy_random_forest = accuracy_score(y_test, y_pred_random_forest)\n",
    "class_report_random_forest = classification_report(y_test, y_pred_random_forest)\n",
    "\n",
    "# resultados\n",
    "print(\"\\nRandom Forest\")\n",
    "print(f\"Accuracy: {accuracy_random_forest:.3f}\")\n",
    "print(\"Classification Report:\")\n",
    "print(class_report_random_forest)"
   ]
  },
  {
   "cell_type": "markdown",
   "metadata": {},
   "source": [
    "### 🏔️ 3.3. Gradient Boosting Machine"
   ]
  },
  {
   "cell_type": "code",
   "execution_count": 5,
   "metadata": {},
   "outputs": [
    {
     "name": "stderr",
     "output_type": "stream",
     "text": [
      "/opt/homebrew/Caskroom/miniconda/base/envs/mtad2/lib/python3.8/site-packages/sklearn/ensemble/_gb.py:424: DataConversionWarning: A column-vector y was passed when a 1d array was expected. Please change the shape of y to (n_samples, ), for example using ravel().\n",
      "  y = column_or_1d(y, warn=True)\n"
     ]
    },
    {
     "name": "stdout",
     "output_type": "stream",
     "text": [
      "\n",
      "Gradient Boosting Machine\n",
      "Accuracy: 0.773\n",
      "Classification Report:\n",
      "              precision    recall  f1-score   support\n",
      "\n",
      "         0.0       0.80      0.81      0.80     16064\n",
      "         1.0       0.74      0.73      0.73     11920\n",
      "\n",
      "    accuracy                           0.77     27984\n",
      "   macro avg       0.77      0.77      0.77     27984\n",
      "weighted avg       0.77      0.77      0.77     27984\n",
      "\n"
     ]
    }
   ],
   "source": [
    "# iniciar o modelo gbm\n",
    "gbm_model = GradientBoostingClassifier(random_state=42)\n",
    "\n",
    "# treinar o modelo\n",
    "gbm_model.fit(X_train, y_train)\n",
    "\n",
    "# fazer previsões no conjunto de teste\n",
    "y_pred_gbm = gbm_model.predict(X_test)\n",
    "\n",
    "# avaliar o modelo\n",
    "accuracy_gbm = accuracy_score(y_test, y_pred_gbm)\n",
    "class_report_gbm = classification_report(y_test, y_pred_gbm)\n",
    "\n",
    "# resultados\n",
    "print(\"\\nGradient Boosting Machine\")\n",
    "print(f\"Accuracy: {accuracy_gbm:.3f}\")\n",
    "print(\"Classification Report:\")\n",
    "print(class_report_gbm)\n",
    "\n",
    "\n"
   ]
  },
  {
   "cell_type": "markdown",
   "metadata": {},
   "source": [
    "### 🧠 3.4. Multi-layer Perceptron (DL)"
   ]
  },
  {
   "cell_type": "code",
   "execution_count": 6,
   "metadata": {},
   "outputs": [
    {
     "name": "stderr",
     "output_type": "stream",
     "text": [
      "/opt/homebrew/Caskroom/miniconda/base/envs/mtad2/lib/python3.8/site-packages/sklearn/neural_network/_multilayer_perceptron.py:1102: DataConversionWarning: A column-vector y was passed when a 1d array was expected. Please change the shape of y to (n_samples, ), for example using ravel().\n",
      "  y = column_or_1d(y, warn=True)\n"
     ]
    },
    {
     "name": "stdout",
     "output_type": "stream",
     "text": [
      "\n",
      "Multi-Layer Perceptron\n",
      "Accuracy: 0.743\n",
      "Classification Report:\n",
      "              precision    recall  f1-score   support\n",
      "\n",
      "         0.0       0.78      0.76      0.77     16064\n",
      "         1.0       0.69      0.71      0.70     11920\n",
      "\n",
      "    accuracy                           0.74     27984\n",
      "   macro avg       0.74      0.74      0.74     27984\n",
      "weighted avg       0.74      0.74      0.74     27984\n",
      "\n"
     ]
    },
    {
     "name": "stderr",
     "output_type": "stream",
     "text": [
      "/opt/homebrew/Caskroom/miniconda/base/envs/mtad2/lib/python3.8/site-packages/sklearn/neural_network/_multilayer_perceptron.py:691: ConvergenceWarning: Stochastic Optimizer: Maximum iterations (300) reached and the optimization hasn't converged yet.\n",
      "  warnings.warn(\n"
     ]
    }
   ],
   "source": [
    "# iniciar o modelo mlp\n",
    "mlp_model = MLPClassifier(hidden_layer_sizes=(100, 50), max_iter=300, random_state=42)\n",
    "\n",
    "# treinar o modelo\n",
    "mlp_model.fit(X_train, y_train)\n",
    "\n",
    "# fazer previsões no conjunto de teste\n",
    "y_pred_mlp = mlp_model.predict(X_test)\n",
    "\n",
    "# avaliar o modelo\n",
    "accuracy_mlp = accuracy_score(y_test, y_pred_mlp)\n",
    "class_report_mlp = classification_report(y_test, y_pred_mlp)\n",
    "\n",
    "# resultados\n",
    "print(\"\\nMulti-Layer Perceptron\")\n",
    "print(f\"Accuracy: {accuracy_mlp:.3f}\")\n",
    "print(\"Classification Report:\")\n",
    "print(class_report_mlp)\n",
    "\n"
   ]
  },
  {
   "cell_type": "markdown",
   "metadata": {},
   "source": [
    "### 🚀 3.5. XGBoost"
   ]
  },
  {
   "cell_type": "code",
   "execution_count": 7,
   "metadata": {},
   "outputs": [
    {
     "name": "stdout",
     "output_type": "stream",
     "text": [
      "\n",
      "Extreme Gradient Boosting\n",
      "Accuracy: 0.784\n",
      "Classification Report:\n",
      "              precision    recall  f1-score   support\n",
      "\n",
      "         0.0       0.80      0.83      0.82     16064\n",
      "         1.0       0.76      0.72      0.74     11920\n",
      "\n",
      "    accuracy                           0.78     27984\n",
      "   macro avg       0.78      0.78      0.78     27984\n",
      "weighted avg       0.78      0.78      0.78     27984\n",
      "\n"
     ]
    },
    {
     "data": {
      "image/png": "[encoded data removed]",
      "text/plain": [
       "<Figure size 1000x800 with 2 Axes>"
      ]
     },
     "metadata": {},
     "output_type": "display_data"
    },
    {
     "name": "stdout",
     "output_type": "stream",
     "text": [
      "Modelo guardado em: xgb_model.json\n"
     ]
    }
   ],
   "source": [
    "# iniciar o xgboost\n",
    "xgb_model = XGBClassifier(random_state=42, eval_metric='logloss')\n",
    "\n",
    "# treinar o modelo\n",
    "xgb_model.fit(X_train, y_train)\n",
    "\n",
    "# fazer previsões no conjunto de teste\n",
    "y_pred_xgb = xgb_model.predict(X_test)\n",
    "\n",
    "# avaliar o modelo\n",
    "accuracy_xgb = accuracy_score(y_test, y_pred_xgb)\n",
    "class_report_xgb = classification_report(y_test, y_pred_xgb)\n",
    "\n",
    "# resultados\n",
    "print(\"\\nExtreme Gradient Boosting\")\n",
    "print(f\"Accuracy: {accuracy_xgb:.3f}\")\n",
    "print(\"Classification Report:\")\n",
    "print(class_report_xgb)\n",
    "\n",
    "# adicionar matriz de confusão\n",
    "plt.figure(figsize=(10, 8))\n",
    "cm = confusion_matrix(y_test, y_pred_xgb)\n",
    "sns.heatmap(cm, annot=True, fmt='d', cmap='Blues')\n",
    "plt.title('Confusion Matrix - XGBoost')\n",
    "plt.ylabel('True Label')\n",
    "plt.xlabel('Predicted Label')\n",
    "plt.show()\n",
    "\n",
    "# guardar o modelo treinado num ficheiro\n",
    "xgb_model.save_model(\"xgb_model.json\")\n",
    "print(\"Modelo guardado em: xgb_model.json\")"
   ]
  },
  {
   "cell_type": "code",
   "execution_count": 8,
   "metadata": {},
   "outputs": [
    {
     "name": "stdout",
     "output_type": "stream",
     "text": [
      "\n",
      "[6/6] Comparing model performances:\n",
      "              Model  Accuracy  Precision  Recall  F1-Score\n",
      "                XGB     0.784      0.783   0.784     0.783\n",
      "                GBM     0.773      0.773   0.773     0.773\n",
      "      Random Forest     0.764      0.764   0.764     0.764\n",
      "                MLP     0.743      0.744   0.743     0.744\n",
      "Logistic Regression     0.741      0.740   0.741     0.741\n"
     ]
    }
   ],
   "source": [
    "# comparar os modelos\n",
    "Models = [\n",
    "    'Logistic Regression',\n",
    "    'Random Forest',\n",
    "    'MLP',\n",
    "    'GBM',\n",
    "    'XGB',\n",
    "]\n",
    "\n",
    "# previsões de cada modelo\n",
    "predictions = [\n",
    "    y_pred_logistic,\n",
    "    y_pred_random_forest,\n",
    "    y_pred_mlp,\n",
    "    y_pred_gbm,\n",
    "    y_pred_xgb,\n",
    "]\n",
    "\n",
    "# métricas de avaliação\n",
    "results = []\n",
    "for model_name, y_pred in zip(Models, predictions):\n",
    "    metrics = {\n",
    "        'Model': model_name,\n",
    "        'Accuracy': round(accuracy_score(y_test, y_pred), 3),\n",
    "        'Precision': round(classification_report(y_test, y_pred, output_dict=True)['weighted avg']['precision'], 3),\n",
    "        'Recall': round(classification_report(y_test, y_pred, output_dict=True)['weighted avg']['recall'], 3),\n",
    "        'F1-Score': round(classification_report(y_test, y_pred, output_dict=True)['weighted avg']['f1-score'], 3)\n",
    "    }\n",
    "    results.append(metrics)\n",
    "\n",
    "# ordenar os resultados por accuracy\n",
    "performance = pd.DataFrame(results).sort_values('Accuracy', ascending=False)\n",
    "print(\"\\n[6/6] Comparing model performances:\")\n",
    "print(performance.to_string(index=False))"
   ]
  }
 ],
 "metadata": {
  "kernelspec": {
   "display_name": "mtad2",
   "language": "python",
   "name": "python3"
  },
  "language_info": {
   "codemirror_mode": {
    "name": "ipython",
    "version": 3
   },
   "file_extension": ".py",
   "mimetype": "text/x-python",
   "name": "python",
   "nbconvert_exporter": "python",
   "pygments_lexer": "ipython3",
   "version": "3.8.20"
  }
 },
 "nbformat": 4,
 "nbformat_minor": 2
}
