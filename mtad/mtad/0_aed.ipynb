{
 "cells": [
  {
   "cell_type": "markdown",
   "metadata": {},
   "source": [
    "## 📚 Importação das Bibliotecas"
   ]
  },
  {
   "cell_type": "code",
   "execution_count": null,
   "metadata": {},
   "outputs": [],
   "source": [
    "import pandas as pd\n",
    "import matplotlib.pyplot as plt\n",
    "import seaborn as sns\n",
    "import numpy as np\n",
    "import arules as ar\n",
    "from arules.utils import top_5_variant_variables\n"
   ]
  },
  {
   "cell_type": "markdown",
   "metadata": {},
   "source": [
    "## 🔄 Carregamento dos Dados"
   ]
  },
  {
   "cell_type": "code",
   "execution_count": null,
   "metadata": {},
   "outputs": [],
   "source": [
    "df = pd.read_csv('diabetes.csv')"
   ]
  },
  {
   "cell_type": "markdown",
   "metadata": {},
   "source": [
    "## 🔍 Análise Descritiva"
   ]
  },
  {
   "cell_type": "markdown",
   "metadata": {},
   "source": [
    "### 📄 Informação Geral dos Dados\n",
    "- Número de colunas (variáveis)\n",
    "- Nomes de linhas (registos)\n",
    "- Contagem de valores nulos\n",
    "- Tipo de dados"
   ]
  },
  {
   "cell_type": "code",
   "execution_count": null,
   "metadata": {},
   "outputs": [],
   "source": [
    "print(df.info())"
   ]
  },
  {
   "cell_type": "markdown",
   "metadata": {},
   "source": [
    "###  ❓Verificação de Valores Nulos"
   ]
  },
  {
   "cell_type": "code",
   "execution_count": null,
   "metadata": {},
   "outputs": [],
   "source": [
    "df.isnull().sum()"
   ]
  },
  {
   "cell_type": "markdown",
   "metadata": {},
   "source": [
    "### ❗️Verificação de Valores Únicos"
   ]
  },
  {
   "cell_type": "code",
   "execution_count": null,
   "metadata": {},
   "outputs": [],
   "source": [
    "# quantidade de valores únicos em cada coluna\n",
    "unique_values = df.nunique()\n",
    "print(unique_values)"
   ]
  },
  {
   "cell_type": "markdown",
   "metadata": {},
   "source": [
    "### 🔣 Descrição Estatística das Variáveis"
   ]
  },
  {
   "cell_type": "code",
   "execution_count": null,
   "metadata": {},
   "outputs": [],
   "source": [
    "df.describe().T\n"
   ]
  },
  {
   "cell_type": "markdown",
   "metadata": {},
   "source": [
    "### 🟰 Verificação de Linhas Duplicadas"
   ]
  },
  {
   "cell_type": "code",
   "execution_count": null,
   "metadata": {},
   "outputs": [],
   "source": [
    "# linhas duplicadas\n",
    "duplicadas = df[df.duplicated()]\n",
    "print(f\"Linhas duplicadas:\\n{duplicadas}\")\n",
    "\n",
    "# número de linhas duplicadas\n",
    "num_duplicadas = df.duplicated().sum()\n",
    "print(f\"Número de linhas duplicadas: {num_duplicadas}\")"
   ]
  },
  {
   "cell_type": "markdown",
   "metadata": {},
   "source": [
    "## 🔍 Análise Exploratória"
   ]
  },
  {
   "cell_type": "markdown",
   "metadata": {},
   "source": [
    "### 📊  Histogramas\n"
   ]
  },
  {
   "cell_type": "code",
   "execution_count": null,
   "metadata": {},
   "outputs": [],
   "source": [
    "# histogramas das variáveis\n",
    "df.hist(bins=25, figsize=(20, 20))\n",
    "plt.show()"
   ]
  },
  {
   "cell_type": "markdown",
   "metadata": {},
   "source": [
    "### 📊 Matriz de Correlação"
   ]
  },
  {
   "cell_type": "code",
   "execution_count": 1,
   "metadata": {},
   "outputs": [
    {
     "ename": "NameError",
     "evalue": "name 'df' is not defined",
     "output_type": "error",
     "traceback": [
      "\u001b[1;31m---------------------------------------------------------------------------\u001b[0m",
      "\u001b[1;31mNameError\u001b[0m                                 Traceback (most recent call last)",
      "Cell \u001b[1;32mIn[1], line 2\u001b[0m\n\u001b[0;32m      1\u001b[0m \u001b[38;5;66;03m# correlação\u001b[39;00m\n\u001b[1;32m----> 2\u001b[0m corr \u001b[38;5;241m=\u001b[39m \u001b[43mdf\u001b[49m\u001b[38;5;241m.\u001b[39mcorr()\n\u001b[0;32m      4\u001b[0m \u001b[38;5;66;03m# matriz de correlação\u001b[39;00m\n\u001b[0;32m      5\u001b[0m plt\u001b[38;5;241m.\u001b[39mfigure(figsize\u001b[38;5;241m=\u001b[39m(\u001b[38;5;241m25\u001b[39m, \u001b[38;5;241m25\u001b[39m))\n",
      "\u001b[1;31mNameError\u001b[0m: name 'df' is not defined"
     ]
    }
   ],
   "source": [
    "# correlação\n",
    "corr = df.corr()\n",
    "\n",
    "# matriz de correlação\n",
    "plt.figure(figsize=(25, 25))\n",
    "sns.heatmap(corr, annot=True, cmap='coolwarm')\n",
    "plt.title('Heat Map')\n",
    "plt.show()"
   ]
  },
  {
   "cell_type": "markdown",
   "metadata": {},
   "source": [
    "### 📊 Correlação das Variáveis com Diabetes_012"
   ]
  },
  {
   "cell_type": "code",
   "execution_count": null,
   "metadata": {},
   "outputs": [],
   "source": [
    "# correlação com a variável Diabetes_012\n",
    "df.drop('Diabetes_012', axis=1).corrwith(df.Diabetes_012).plot(kind='bar', grid=True, figsize=(20, 8)\n",
    ", title=\"Correlação das variáveis com a variável Diabetes_012\",color=\"Orange\")"
   ]
  },
  {
   "cell_type": "markdown",
   "metadata": {},
   "source": [
    "### 📊 Análise da Variável Diabetes_012"
   ]
  },
  {
   "cell_type": "code",
   "execution_count": null,
   "metadata": {},
   "outputs": [],
   "source": [
    "# ver quantos registos tem cada categoria em 'Diabetes_012' (0 - não tem diabetes, 1 - pré-diabetes, 2 - diabetes)\n",
    "diabetes_counts_absolute = df['Diabetes_012'].value_counts()\n",
    "\n",
    "# ver contagens normalizadas (percentagens) para cada categoria em 'Diabetes_012'\n",
    "diabetes_counts_normalized = df['Diabetes_012'].value_counts(normalize=True) * 100\n",
    "\n",
    "# ver os resultados\n",
    "print(\"Contagens Absolutas:\")\n",
    "print(diabetes_counts_absolute)\n",
    "print(\"\\nPercentagens:\")\n",
    "print(diabetes_counts_normalized)\n",
    "\n",
    "# renomear as categorias para colocar em gráficos\n",
    "diabetes_counts_absolute.index = diabetes_counts_absolute.index.map({0: 'Sem Diabetes', 1: 'Pré-Diabetes', 2: 'Com Diabetes'})\n",
    "diabetes_counts_normalized.index = diabetes_counts_normalized.index.map({0: 'Sem Diabetes', 1: 'Pré-Diabetes', 2: 'Com Diabetes'})\n",
    "\n",
    "colors = ['#1f77b4', '#ff7f0e', '#2ca02c'] \n",
    "plt.figure(figsize=(14, 6))\n",
    "\n",
    "# gráfico de contagens absolutas\n",
    "plt.subplot(1, 2, 1)\n",
    "bars = plt.bar(diabetes_counts_absolute.index, diabetes_counts_absolute, color=colors)\n",
    "plt.title('Contagens Absolutas por Categoria', fontsize=14)\n",
    "plt.ylabel('Número de Registos', fontsize=12)\n",
    "plt.xticks(rotation=45, fontsize=11)\n",
    "\n",
    "for bar in bars:\n",
    "    plt.text(bar.get_x() + bar.get_width() / 2, bar.get_height(),\n",
    "             f'{int(bar.get_height())}', ha='center', va='bottom', fontsize=10)\n",
    "\n",
    "\n",
    "# gráfico de percentagens\n",
    "plt.figure(figsize=(4, 4))\n",
    "plt.pie(diabetes_counts_normalized, labels=diabetes_counts_normalized.index, autopct='%1.1f%%', startangle=90)\n",
    "plt.title('Percentagem de Registos em Cada Categoria de Diabetes')\n",
    "\n",
    "# ver os gráficos\n",
    "plt.show()"
   ]
  },
  {
   "cell_type": "markdown",
   "metadata": {},
   "source": [
    "### 📊 Saúde Geral em Função de Diabetes"
   ]
  },
  {
   "cell_type": "code",
   "execution_count": null,
   "metadata": {},
   "outputs": [],
   "source": [
    "# Criar o countplot\n",
    "plt.figure(figsize=(10, 6))\n",
    "ax = sns.countplot(data=df, x='GenHlth', hue='Diabetes_012', palette=['#1f77b4','#2ca02c', '#ff7f0e'])\n",
    "\n",
    "\n",
    "# Adicionar as contagens no topo de cada barra\n",
    "for container in ax.containers:\n",
    "    ax.bar_label(container, label_type='edge', fontsize=10, padding=3)\n",
    "\n",
    "# Configurar os rótulos e título\n",
    "plt.title(\"Saúde Geral em Função da Diabetes\", fontsize=16)\n",
    "plt.xlabel(\"Saúde Geral\", fontsize=14)\n",
    "plt.ylabel(\"Contagem\", fontsize=14)\n",
    "plt.legend(title=\"Diabetes_012\", labels=[\"Sem Diabetes\", \"Pré-Diabetes\", \"Diabetes\"])\n",
    "plt.xticks( fontsize=12)\n",
    "plt.tight_layout()\n",
    "plt.show()"
   ]
  },
  {
   "cell_type": "markdown",
   "metadata": {},
   "source": [
    "### 📊 Pressão Arterial em Função de Diabetes\n"
   ]
  },
  {
   "cell_type": "code",
   "execution_count": null,
   "metadata": {},
   "outputs": [],
   "source": [
    "# Criar o countplot\n",
    "plt.figure(figsize=(10, 6))\n",
    "ax = sns.countplot(data=df, x='HighBP', hue='Diabetes_012', palette=['#1f77b4','#2ca02c', '#ff7f0e'])\n",
    "\n",
    "\n",
    "# Adicionar as contagens no topo de cada barra\n",
    "for container in ax.containers:\n",
    "    ax.bar_label(container, label_type='edge', fontsize=10, padding=3)\n",
    "\n",
    "# Configurar os rótulos e título\n",
    "plt.title(\"Pressão Arterial em Função da Diabetes\", fontsize=16)\n",
    "plt.xlabel(\"Pressão Arterial\", fontsize=14)\n",
    "plt.ylabel(\"Contagem\", fontsize=14)\n",
    "plt.legend(title=\"Diabetes_012\", labels=[\"Sem Diabetes\", \"Pré-Diabetes\", \"Diabetes\"])\n",
    "plt.xticks(ticks=[0, 1], labels=[\"Sem pressão Alta\", \"Com pressão alta\"], fontsize=12)\n",
    "plt.tight_layout()\n",
    "plt.show()"
   ]
  },
  {
   "cell_type": "markdown",
   "metadata": {},
   "source": [
    "### 📊 Proporção de Diabetes na Pressão Arterial\n"
   ]
  },
  {
   "cell_type": "code",
   "execution_count": null,
   "metadata": {},
   "outputs": [],
   "source": [
    "# Contar indivíduos com e sem pressão alta por categoria de diabetes\n",
    "highbp_diabetes_counts = df.groupby(['Diabetes_012', 'HighBP']).size().unstack(fill_value=0)\n",
    "\n",
    "# Converter para proporções dentro de cada categoria de diabetes\n",
    "highbp_diabetes_percentages = highbp_diabetes_counts.div(highbp_diabetes_counts.sum(axis=1), axis=0) * 100\n",
    "\n",
    "# Criar gráfico \n",
    "highbp_diabetes_percentages.plot(kind='bar', stacked=True, figsize=(10, 6), color=['#1f77b4', '#ff7f0e'], alpha=0.8)\n",
    "\n",
    "plt.title('Distribuição de Pressão Alta por Categoria de Diabetes')\n",
    "plt.xlabel('Categoria de Diabetes')\n",
    "plt.ylabel('Proporção (%)')\n",
    "plt.xticks(ticks=[0, 1, 2], labels=['Sem Diabets', 'Pré-Diabetes', 'Diabetes'], rotation=0)\n",
    "plt.legend(['Sem Pressão Alta', 'Com Pressão Alta'], title='HighBP')\n",
    "plt.tight_layout()\n",
    "plt.show()\n"
   ]
  },
  {
   "cell_type": "markdown",
   "metadata": {},
   "source": [
    "### 📊 Análise de Distribuição de Idades\n",
    " **Categorização da Idade em Grupos Etários:**\n",
    "- 1 (18 a 24 anos)\n",
    "- 2 (25 a 29 anos)\n",
    "- 3 (30 a 34 anos)\n",
    "- 4 (35 a 39 anos)\n",
    "- 5 (40 a 44 anos)\n",
    "- 6 (45 a 49 anos)\n",
    "- 7 (50 a 54 anos)\n",
    "- 8 (55 a 59 anos)\n",
    "- 9 (60 a 64 anos)\n",
    "- 10 (65 a 69 anos)\n",
    "- 11 (70 a 74 anos)\n",
    "- 12 (75 a 80 anos)\n",
    "- 13 (mais de 80 anos)"
   ]
  },
  {
   "cell_type": "code",
   "execution_count": null,
   "metadata": {},
   "outputs": [],
   "source": [
    "# definir as faixas etárias\n",
    "age_labels = ['18-24', '25-29', '30-34', '35-39', '40-44', '45-49',\n",
    "              '50-54', '55-59', '60-64', '65-69', '70-74', '75-79', '80+']\n",
    "\n",
    "# mapeamento dea \"Age\" para as faixas etárias\n",
    "df['Age_Group'] = df['Age'].map(lambda x: age_labels[int(x) - 1])\n",
    "\n",
    "# contagem de sem diabetes, pré-diabetes e diabetes por faixa etária\n",
    "age_diabetes_counts = df.groupby(['Age_Group', 'Diabetes_012']).size().unstack(fill_value=0)\n",
    "\n",
    "# criar o gráfico \n",
    "age_groups = age_diabetes_counts.index\n",
    "categories = ['Healthy', 'Pré-Diabetes', 'Diabetes']\n",
    "values = [age_diabetes_counts[0], age_diabetes_counts[1], age_diabetes_counts[2]]\n",
    "\n",
    "x = np.arange(len(age_groups))  \n",
    "width = 0.25 \n",
    "\n",
    "fig, ax = plt.subplots(figsize=(14, 7))\n",
    "\n",
    "\n",
    "bars1 = ax.bar(x - width, values[0], width, label='Saudável', color='#1f77b4')\n",
    "bars2 = ax.bar(x, values[1], width, label='Pré-Diabetes', color='#2ca02c')\n",
    "bars3 = ax.bar(x + width, values[2], width, label='Diabetes', color='#ff7f0e')\n",
    "\n",
    "# legendas e título\n",
    "ax.set_xlabel('Faixa Etária', fontsize=12)\n",
    "ax.set_ylabel('Frequência', fontsize=12)\n",
    "ax.set_title('Distribuição de Diabetes por Faixa Etária', fontsize=14)\n",
    "ax.set_xticks(x)\n",
    "ax.set_xticklabels(age_groups, rotation=45, ha='right')\n",
    "ax.legend(title='Categoria', fontsize=10)\n",
    "\n",
    "# valores no topo das barras\n",
    "for bars in [bars1, bars2, bars3]:\n",
    "    for bar in bars:\n",
    "        height = bar.get_height()\n",
    "        ax.annotate(f'{height}', \n",
    "                    xy=(bar.get_x() + bar.get_width() / 2, height),\n",
    "                    xytext=(0, 3),  # Deslocamento para cima\n",
    "                    textcoords=\"offset points\",\n",
    "                    ha='center', va='bottom', fontsize=9)\n",
    "\n",
    "plt.tight_layout()\n",
    "plt.show()\n"
   ]
  },
  {
   "cell_type": "markdown",
   "metadata": {},
   "source": [
    "### 📊 Análise de Géneros"
   ]
  },
  {
   "cell_type": "code",
   "execution_count": null,
   "metadata": {},
   "outputs": [],
   "source": [
    "plt.figure(figsize=(10, 6))\n",
    "ax = sns.countplot(data=df, x='Sex', hue='Diabetes_012', palette=['#1f77b4', '#2ca02c','#ff7f0e' ])\n",
    "\n",
    "# contagens no topo de cada barra\n",
    "for container in ax.containers:\n",
    "    ax.bar_label(container, label_type='edge', fontsize=10, padding=3)\n",
    "\n",
    "# legendas e título\n",
    "plt.title(\"Género em função da Diabetes\", fontsize=16)\n",
    "plt.xlabel(\"Género\", fontsize=14)\n",
    "plt.ylabel(\"Contagem\", fontsize=14)\n",
    "plt.legend(title=\"Diabetes_012\", labels=[\"Sem Diabetes\", \"Pré-Diabetes\", \"Diabetes\"])\n",
    "plt.xticks(ticks=[0, 1], labels=[\"Feminino\", \"Masculino\"], fontsize=12)\n",
    "\n",
    "# mostrar o gráfico\n",
    "plt.tight_layout()\n",
    "plt.show()"
   ]
  },
  {
   "cell_type": "markdown",
   "metadata": {},
   "source": [
    "### 📊 Análise da Variável Rendimentos"
   ]
  },
  {
   "cell_type": "code",
   "execution_count": null,
   "metadata": {},
   "outputs": [],
   "source": [
    "# contagem de sem diabetes, pré-diabetes e diabetes por rendimentos\n",
    "income_diabetes_counts = df.groupby(['Income', 'Diabetes_012']).size().unstack(fill_value=0)\n",
    "\n",
    "# criar o gráfico de barras \n",
    "income_groups = income_diabetes_counts.index\n",
    "categories = ['Sem Diabetes', 'Pré-Diabetes', 'Diabetes']\n",
    "values = [income_diabetes_counts[0], income_diabetes_counts[1], income_diabetes_counts[2]]\n",
    "\n",
    "x = np.arange(len(income_groups))\n",
    "width = 0.25\n",
    "\n",
    "fig, ax = plt.subplots(figsize=(14, 7))\n",
    "\n",
    "bars1 = ax.bar(x - width, values[0], width, label='Sem Diabetes', color='#1f77b4')\n",
    "bars2 = ax.bar(x, values[1], width, label='Pré-Diabetes', color='#2ca02c')\n",
    "bars3 = ax.bar(x + width, values[2], width, label='Diabetes', color='#ff7f0e')\n",
    "\n",
    "# legendas e título\n",
    "ax.set_xlabel('Rendimentos', fontsize=12)\n",
    "ax.set_ylabel('Frequência', fontsize=12)\n",
    "ax.set_title('Distribuição de Diabetes por Rendimentos', fontsize=14)\n",
    "ax.set_xticks(x)\n",
    "ax.set_xticklabels(income_groups, rotation=45, ha='right')\n",
    "ax.legend(title='Categoria', fontsize=10)\n",
    "\n",
    "# valores no topo das barras\n",
    "for bars in [bars1, bars2, bars3]:\n",
    "    for bar in bars:\n",
    "        height = bar.get_height()\n",
    "        ax.annotate(f'{height}', \n",
    "                    xy=(bar.get_x() + bar.get_width() / 2, height),\n",
    "                    xytext=(0, 3),  \n",
    "                    textcoords=\"offset points\",\n",
    "                    ha='center', va='bottom', fontsize=9)\n",
    "\n",
    "# mostrar o gráfico\n",
    "plt.tight_layout()\n",
    "plt.show()\n"
   ]
  },
  {
   "cell_type": "markdown",
   "metadata": {},
   "source": [
    "# 📋 Regras de Associação"
   ]
  },
  {
   "cell_type": "code",
   "execution_count": null,
   "metadata": {},
   "outputs": [],
   "source": [
    "# mining das regras de associação\n",
    "rules, supp_dict = ar.create_association_rules(df, max_cols=2)\n",
    "\n",
    "# listar as regras\n",
    "rules\n",
    "\n",
    "# regras com consequente Diabetes_012 = 2.0 (tem diabetes)\n",
    "# mostrar as 5 variáveis que mais influenciam a presença de diabetes\n",
    "ar.present_rules_per_consequent(rules, consequent={'Diabetes_012': '2.0'}, \n",
    "                                selection_function=top_5_variant_variables, \n",
    "                                drop_dups=True, \n",
    "                                plot=True)"
   ]
  }
 ],
 "metadata": {
  "kernelspec": {
   "display_name": "Python 3",
   "language": "python",
   "name": "python3"
  },
  "language_info": {
   "codemirror_mode": {
    "name": "ipython",
    "version": 3
   },
   "file_extension": ".py",
   "mimetype": "text/x-python",
   "name": "python",
   "nbconvert_exporter": "python",
   "pygments_lexer": "ipython3",
   "version": "3.13.1"
  }
 },
 "nbformat": 4,
 "nbformat_minor": 2
}
