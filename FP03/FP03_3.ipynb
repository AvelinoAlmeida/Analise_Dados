{
 "cells": [
  {
   "cell_type": "code",
   "execution_count": null,
   "metadata": {},
   "outputs": [],
   "source": [
    "#Instalar e Configurar o H2O\n",
    "#Importar e Inicializar o H2O\n",
    "\n",
    "import h2o\n",
    "from h2o.grid.grid_search import H2OGridSearch\n",
    "from h2o.estimators import H2ODeepLearningEstimator\n",
    "\n",
    "# Iniciar o H2O\n",
    "h2o.init()\n"
   ]
  },
  {
   "cell_type": "code",
   "execution_count": null,
   "metadata": {},
   "outputs": [],
   "source": [
    "#Carregar e Preparar o Dataset\n",
    "\n",
    "# Carregar o dataset (substitua pelo caminho correto do dataset MNIST)\n",
    "train_data = h2o.import_file(\"mnist_train.csv\")\n",
    "test_data = h2o.import_file(\"mnist_test.csv\")\n",
    "\n",
    "# Especificar a coluna de resposta e as variáveis preditoras\n",
    "response = \"label\"\n",
    "predictors = train_data.columns[1:]  # Exclui a primeira coluna que é o rótulo\n"
   ]
  },
  {
   "cell_type": "code",
   "execution_count": null,
   "metadata": {},
   "outputs": [],
   "source": [
    "#Configurar o Pré-Processamento dos Dados\n",
    "\n",
    "# Transformar a coluna de rótulos em fator para classificação\n",
    "train_data[response] = train_data[response].asfactor()\n",
    "test_data[response] = test_data[response].asfactor()\n"
   ]
  },
  {
   "cell_type": "code",
   "execution_count": null,
   "metadata": {},
   "outputs": [],
   "source": [
    "# Definir o Modelo de Deep Learning com H2O e Configurar a Grid Search\n",
    "\n",
    "# Definir hiperparâmetros para a Grid Search\n",
    "hyper_params = {\n",
    "    \"hidden\": [[32, 32], [64, 64], [128, 128]],  # Diferentes combinações de camadas e neurónios\n",
    "    \"rate\": [0.01, 0.005, 0.001],                # Diferentes taxas de aprendizagem\n",
    "    \"epochs\": [10, 20, 30]                       # Diferentes números de épocas\n",
    "}\n",
    "\n",
    "# Criar o modelo de Deep Learning com H2O\n",
    "dl_model = H2ODeepLearningEstimator(\n",
    "    activation=\"RectifierWithDropout\",  # Função de ativação com dropout\n",
    "    input_dropout_ratio=0.2,            # Dropout para a camada de entrada\n",
    "    hidden_dropout_ratios=[0.5, 0.5],   # Dropout nas camadas ocultas\n",
    "    loss=\"CrossEntropy\",                # Função de perda para classificação multiclasse\n",
    "    distribution=\"multinomial\"          # Distribuição para problemas de classificação\n",
    ")\n",
    "\n",
    "# Configurar a Grid Search\n",
    "grid = H2OGridSearch(model=dl_model, hyper_params=hyper_params, grid_id=\"dl_grid\")\n"
   ]
  },
  {
   "cell_type": "code",
   "execution_count": null,
   "metadata": {},
   "outputs": [],
   "source": [
    "#Treinar o Modelo com Grid Search\n",
    "\n",
    "# Executar a Grid Search\n",
    "grid.train(x=predictors, y=response, training_frame=train_data, validation_frame=test_data)\n"
   ]
  },
  {
   "cell_type": "code",
   "execution_count": null,
   "metadata": {},
   "outputs": [],
   "source": [
    "#Analisar os Resultados da Grid Search\n",
    "\n",
    "# Exibir os resultados da Grid Search e ordenar por acurácia de validação\n",
    "grid_results = grid.get_grid(sort_by=\"accuracy\", decreasing=True)\n",
    "print(grid_results)\n",
    "\n"
   ]
  },
  {
   "cell_type": "code",
   "execution_count": null,
   "metadata": {},
   "outputs": [],
   "source": [
    "#Avaliar o Melhor Modelo\n",
    "\n",
    "# Selecionar o melhor modelo\n",
    "best_model = grid_results.models[0]\n",
    "\n",
    "# Avaliar o melhor modelo no conjunto de teste\n",
    "performance = best_model.model_performance(test_data)\n",
    "print(performance)\n"
   ]
  },
  {
   "cell_type": "code",
   "execution_count": null,
   "metadata": {},
   "outputs": [],
   "source": [
    "# Encerrar a sessão do H2O\n",
    "h2o.shutdown()"
   ]
  },
  {
   "cell_type": "markdown",
   "metadata": {},
   "source": [
    "##Resumo\n",
    "1.  Instalar e inicializar o H2O.\n",
    "2.  Carregar e preparar os dados: Carregue os dados no formato H2O e transforme a coluna de rótulo em categórica.\n",
    "3.  Configurar os hiperparâmetros para a Grid Search: Defina as combinações de camadas, taxas de aprendizagem e épocas.\n",
    "4.  Executar a Grid Search para encontrar a melhor configuração.\n",
    "5.  Avaliar o melhor modelo selecionado com o conjunto de teste."
   ]
  }
 ],
 "metadata": {
  "kernelspec": {
   "display_name": "Python 3",
   "language": "python",
   "name": "python3"
  },
  "language_info": {
   "codemirror_mode": {
    "name": "ipython",
    "version": 3
   },
   "file_extension": ".py",
   "mimetype": "text/x-python",
   "name": "python",
   "nbconvert_exporter": "python",
   "pygments_lexer": "ipython3",
   "version": "3.13.0"
  }
 },
 "nbformat": 4,
 "nbformat_minor": 2
}
