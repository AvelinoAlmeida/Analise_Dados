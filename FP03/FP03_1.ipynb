{
 "cells": [
  {
   "cell_type": "code",
   "execution_count": null,
   "metadata": {},
   "outputs": [],
   "source": [
    "# Instalar bibliotecas\n",
    "# Importar todas as bibliotecas\n",
    "\n",
    "\n",
    "import pandas as pd\n",
    "\n",
    "# Carregar o dataset\n",
    "df = pd.read_csv('../data/titanic.csv')\n",
    "\n",
    "# Exibir as primeiras linhas para análise\n",
    "print(df.head())\n"
   ]
  },
  {
   "cell_type": "code",
   "execution_count": null,
   "metadata": {},
   "outputs": [],
   "source": [
    "# Pré-Processamento do Dataset\n",
    "# Tratar Valores Ausentes: As variáveis Age e Embarked geralmente têm valores ausentes.\n",
    "\n",
    "\n",
    "# Remover Colunas Irrelevantes: Algumas colunas como PassengerId, Name, Ticket, e Cabin podem ser irrelevantes para a previsão de sobrevivência\n",
    "df = df.drop(['PassengerId', 'Name', 'Ticket', 'Cabin'], axis=1)\n",
    "\n",
    "# Substituir valores nulos na coluna 'Age' pela mediana\n",
    "df['Age'] = df['Age'].fillna(df['Age'].median())\n",
    "\n",
    "# Substituir valores nulos na coluna 'Embarked' pelo valor mais frequente\n",
    "df['Embarked'] = df['Embarked'].fillna(df['Embarked'].mode()[0])\n",
    "\n"
   ]
  },
  {
   "cell_type": "code",
   "execution_count": null,
   "metadata": {},
   "outputs": [],
   "source": [
    "# Codificação de Variáveis Categóricas\n",
    "\n",
    "# Converter variáveis categóricas como Sex e Embarked para numéricas utilizando a técnica de one-hot encoding.\n",
    "df = pd.get_dummies(df, columns=['Sex', 'Embarked'], drop_first=True)\n"
   ]
  },
  {
   "cell_type": "code",
   "execution_count": null,
   "metadata": {},
   "outputs": [],
   "source": [
    "# Normalizar Variáveis Numéricas (opcional, mas recomendado para Deep Learning):\n",
    "\n",
    "# Escalar as variáveis numéricas (Age, Fare) entre 0 e 1 para melhorar o desempenho do modelo.\n",
    "from sklearn.preprocessing import MinMaxScaler\n",
    "scaler = MinMaxScaler()\n",
    "df[['Age', 'Fare']] = scaler.fit_transform(df[['Age', 'Fare']])\n"
   ]
  },
  {
   "cell_type": "code",
   "execution_count": null,
   "metadata": {},
   "outputs": [],
   "source": [
    "# Divisão dos Dados: Dividir o dataset em variáveis independentes (X) e dependente (y) e depois separe em treino e teste com um split de 66% para treino.\n",
    "from sklearn.model_selection import train_test_split\n",
    "X = df.drop('Survived', axis=1)\n",
    "y = df['Survived']\n",
    "X_train, X_test, y_train, y_test = train_test_split(X, y, test_size=0.34, random_state=42)\n",
    "\n"
   ]
  }
 ],
 "metadata": {
  "kernelspec": {
   "display_name": "Python 3",
   "language": "python",
   "name": "python3"
  },
  "language_info": {
   "codemirror_mode": {
    "name": "ipython",
    "version": 3
   },
   "file_extension": ".py",
   "mimetype": "text/x-python",
   "name": "python",
   "nbconvert_exporter": "python",
   "pygments_lexer": "ipython3",
   "version": "3.13.0"
  }
 },
 "nbformat": 4,
 "nbformat_minor": 2
}
