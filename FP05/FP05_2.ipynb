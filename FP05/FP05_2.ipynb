{
 "cells": [
  {
   "cell_type": "markdown",
   "metadata": {},
   "source": [
    "# Repita o exercício anterior, utilizando agora um número fixo de clusters de 3. Analise os resultados. Houve uma melhoria relativamente ao exercício anterior?"
   ]
  },
  {
   "cell_type": "code",
   "execution_count": 1,
   "metadata": {},
   "outputs": [
    {
     "data": {
      "text/html": [
       "<div>\n",
       "<style scoped>\n",
       "    .dataframe tbody tr th:only-of-type {\n",
       "        vertical-align: middle;\n",
       "    }\n",
       "\n",
       "    .dataframe tbody tr th {\n",
       "        vertical-align: top;\n",
       "    }\n",
       "\n",
       "    .dataframe thead th {\n",
       "        text-align: right;\n",
       "    }\n",
       "</style>\n",
       "<table border=\"1\" class=\"dataframe\">\n",
       "  <thead>\n",
       "    <tr style=\"text-align: right;\">\n",
       "      <th></th>\n",
       "      <th>mpg</th>\n",
       "      <th>displacement</th>\n",
       "      <th>horsepower</th>\n",
       "      <th>weigth</th>\n",
       "      <th>acceleration</th>\n",
       "      <th>origin</th>\n",
       "    </tr>\n",
       "  </thead>\n",
       "  <tbody>\n",
       "    <tr>\n",
       "      <th>0</th>\n",
       "      <td>35</td>\n",
       "      <td>72</td>\n",
       "      <td>69</td>\n",
       "      <td>1613</td>\n",
       "      <td>18</td>\n",
       "      <td>japanese</td>\n",
       "    </tr>\n",
       "    <tr>\n",
       "      <th>1</th>\n",
       "      <td>31</td>\n",
       "      <td>76</td>\n",
       "      <td>52</td>\n",
       "      <td>1649</td>\n",
       "      <td>17</td>\n",
       "      <td>japanese</td>\n",
       "    </tr>\n",
       "    <tr>\n",
       "      <th>2</th>\n",
       "      <td>39</td>\n",
       "      <td>79</td>\n",
       "      <td>58</td>\n",
       "      <td>1755</td>\n",
       "      <td>17</td>\n",
       "      <td>japanese</td>\n",
       "    </tr>\n",
       "    <tr>\n",
       "      <th>3</th>\n",
       "      <td>35</td>\n",
       "      <td>81</td>\n",
       "      <td>60</td>\n",
       "      <td>1760</td>\n",
       "      <td>16</td>\n",
       "      <td>japanese</td>\n",
       "    </tr>\n",
       "    <tr>\n",
       "      <th>4</th>\n",
       "      <td>31</td>\n",
       "      <td>71</td>\n",
       "      <td>65</td>\n",
       "      <td>1773</td>\n",
       "      <td>19</td>\n",
       "      <td>japanese</td>\n",
       "    </tr>\n",
       "  </tbody>\n",
       "</table>\n",
       "</div>"
      ],
      "text/plain": [
       "   mpg  displacement  horsepower  weigth  acceleration    origin\n",
       "0   35            72          69    1613            18  japanese\n",
       "1   31            76          52    1649            17  japanese\n",
       "2   39            79          58    1755            17  japanese\n",
       "3   35            81          60    1760            16  japanese\n",
       "4   31            71          65    1773            19  japanese"
      ]
     },
     "execution_count": 1,
     "metadata": {},
     "output_type": "execute_result"
    }
   ],
   "source": [
    "import pandas as pd\n",
    "\n",
    "# Carregar o ficheiro CSV fornecido\n",
    "file_path = '../data/origem_carros.csv'\n",
    "car_data = pd.read_csv(file_path)\n",
    "\n",
    "# Visualizar as primeiras linhas para entender a estrutura do dataset\n",
    "car_data.head()"
   ]
  },
  {
   "cell_type": "code",
   "execution_count": null,
   "metadata": {},
   "outputs": [],
   "source": []
  },
  {
   "cell_type": "code",
   "execution_count": 4,
   "metadata": {},
   "outputs": [
    {
     "data": {
      "text/plain": [
       "(2, np.float64(0.525943748859983))"
      ]
     },
     "execution_count": 4,
     "metadata": {},
     "output_type": "execute_result"
    }
   ],
   "source": [
    "from sklearn.cluster import KMeans\n",
    "from sklearn.preprocessing import StandardScaler\n",
    "from sklearn.metrics import silhouette_score\n",
    "\n",
    "# Remover a variável 'origin' e normalizar os dados\n",
    "features = car_data.drop(columns=['origin'])\n",
    "scaler = StandardScaler()\n",
    "normalized_data = scaler.fit_transform(features)\n",
    "\n",
    "# Testar diferentes números de clusters para determinar o melhor número (usando o silhouette score)\n",
    "range_n_clusters = range(2, 10)\n",
    "silhouette_scores = []\n",
    "\n",
    "for n_clusters in range_n_clusters:\n",
    "    kmeans = KMeans(n_clusters=n_clusters, random_state=42)\n",
    "    cluster_labels = kmeans.fit_predict(normalized_data)\n",
    "    silhouette_avg = silhouette_score(normalized_data, cluster_labels)\n",
    "    silhouette_scores.append((n_clusters, silhouette_avg))\n",
    "\n",
    "# Identificar o número de clusters com o melhor silhouette score\n",
    "optimal_clusters = max(silhouette_scores, key=lambda x: x[1])\n",
    "optimal_clusters\n"
   ]
  },
  {
   "cell_type": "code",
   "execution_count": 5,
   "metadata": {},
   "outputs": [
    {
     "data": {
      "text/plain": [
       "(origin     american  european  japanese\n",
       " cluster_3                              \n",
       " 0               104        23        20\n",
       " 1                97         0         0\n",
       " 2                44        45        59,\n",
       " np.float64(0.3821230902831312))"
      ]
     },
     "execution_count": 5,
     "metadata": {},
     "output_type": "execute_result"
    }
   ],
   "source": [
    "# Aplicar K-means com 3 clusters\n",
    "kmeans_3_clusters = KMeans(n_clusters=3, random_state=42)\n",
    "car_data['cluster_3'] = kmeans_3_clusters.fit_predict(normalized_data)\n",
    "\n",
    "# Analisar a relação entre os clusters e a variável 'origin' para 3 clusters\n",
    "cluster_analysis_3 = car_data.groupby(['cluster_3', 'origin']).size().unstack(fill_value=0)\n",
    "\n",
    "# Avaliar o silhouette score para 3 clusters\n",
    "silhouette_score_3_clusters = silhouette_score(normalized_data, car_data['cluster_3'])\n",
    "\n",
    "cluster_analysis_3, silhouette_score_3_clusters\n"
   ]
  }
 ],
 "metadata": {
  "kernelspec": {
   "display_name": "Python 3",
   "language": "python",
   "name": "python3"
  },
  "language_info": {
   "codemirror_mode": {
    "name": "ipython",
    "version": 3
   },
   "file_extension": ".py",
   "mimetype": "text/x-python",
   "name": "python",
   "nbconvert_exporter": "python",
   "pygments_lexer": "ipython3",
   "version": "3.12.7"
  }
 },
 "nbformat": 4,
 "nbformat_minor": 2
}
