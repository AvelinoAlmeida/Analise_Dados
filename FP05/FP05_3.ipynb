{
 "cells": [
  {
   "cell_type": "markdown",
   "metadata": {},
   "source": [
    "# Considere o dataset iris.csv, que detalha algumas características de 3 espécies diferentes de lírios. O dataset contém 50 instâncias de cada espécie. É sabido que uma das espécies é linearmente separável das outras duas, que não são linearmente separáveis entre si (Fig. 1). Ignorando a variável de classe, utilize um algoritmo de aprendizagem não supervisionada para determinar quantos “grupos” de flores existem no dataset. De seguida, tendo já em consideração a verdadeira espécie de cada flor, faça uma análise aos clusters gerados, tentando perceber se os clusters estão “alinhados” com as verdadeiras espécies de cada flor."
   ]
  },
  {
   "cell_type": "code",
   "execution_count": null,
   "metadata": {},
   "outputs": [],
   "source": [
    "import pandas as pd\n",
    "\n",
    "\n",
    "# Carregar o dataset Iris\n",
    "iris_data_path = '../data/Iris.csv'\n",
    "iris_data = pd.read_csv(iris_data_path)\n",
    "\n",
    "# Visualizar as primeiras linhas do dataset para entender a estrutura\n",
    "iris_data.head()\n"
   ]
  },
  {
   "cell_type": "code",
   "execution_count": 10,
   "metadata": {},
   "outputs": [
    {
     "data": {
      "text/plain": [
       "(Species  Iris-setosa  Iris-versicolor  Iris-virginica\n",
       " cluster                                              \n",
       " 0                  0               50              50\n",
       " 1                 50                0               0,\n",
       " np.float64(0.580184463257396))"
      ]
     },
     "execution_count": 10,
     "metadata": {},
     "output_type": "execute_result"
    }
   ],
   "source": [
    "from sklearn.decomposition import PCA\n",
    "from sklearn.cluster import KMeans\n",
    "from sklearn.metrics import silhouette_score\n",
    "\n",
    "\n",
    "# Reimportar e inicializar o normalizador (StandardScaler)\n",
    "from sklearn.preprocessing import StandardScaler\n",
    "\n",
    "# Normalizar os dados\n",
    "scaler = StandardScaler()\n",
    "normalized_iris_data = scaler.fit_transform(iris_features)\n",
    "\n",
    "# Reaplicar o algoritmo K-means com 2 clusters\n",
    "kmeans_iris = KMeans(n_clusters=2, random_state=42)\n",
    "iris_data['cluster'] = kmeans_iris.fit_predict(normalized_iris_data)\n",
    "\n",
    "# Reanalisar a relação entre os clusters e as espécies\n",
    "iris_cluster_analysis = iris_data.groupby(['cluster', 'Species']).size().unstack(fill_value=0)\n",
    "\n",
    "# Avaliar o silhouette score para os clusters\n",
    "silhouette_score_2_clusters = silhouette_score(normalized_iris_data, iris_data['cluster'])\n",
    "\n",
    "iris_cluster_analysis, silhouette_score_2_clusters\n"
   ]
  }
 ],
 "metadata": {
  "kernelspec": {
   "display_name": "Python 3",
   "language": "python",
   "name": "python3"
  },
  "language_info": {
   "codemirror_mode": {
    "name": "ipython",
    "version": 3
   },
   "file_extension": ".py",
   "mimetype": "text/x-python",
   "name": "python",
   "nbconvert_exporter": "python",
   "pygments_lexer": "ipython3",
   "version": "3.12.7"
  }
 },
 "nbformat": 4,
 "nbformat_minor": 2
}
