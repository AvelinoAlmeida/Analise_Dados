{
 "cells": [
  {
   "cell_type": "code",
   "execution_count": 1,
   "metadata": {},
   "outputs": [],
   "source": [
    "import pandas as pd\n",
    "import numpy as np\n",
    "from mlxtend.frequent_patterns import apriori, association_rules"
   ]
  },
  {
   "cell_type": "code",
   "execution_count": 7,
   "metadata": {},
   "outputs": [],
   "source": [
    "# Definir os dados\n",
    "dados = {\n",
    "    'tipo_dia': ['semana', 'semana', 'semana', 'semana', 'semana', 'semana', 'semana', 'semana', 'semana', 'fim_semana', \n",
    "                'fim_semana', 'fim_semana', 'fim_semana', 'fim_semana', 'fim_semana', 'fim_semana', 'fim_semana'],\n",
    "    'tipo_encontro': ['jantar', 'jantar', 'jantar', 'jantar', 'jantar', 'disco', 'disco', 'disco', 'disco', 'disco', \n",
    "                      'disco', 'disco', 'disco', 'jantar', 'jantar', 'jantar', 'jantar'],\n",
    "    'meteo': ['quente', 'frio', 'quente', 'frio', 'quente', 'quente', 'quente', 'frio', 'frio', 'quente', \n",
    "              'quente', 'frio', 'frio', 'quente', 'quente', 'frio', 'frio'],\n",
    "    'tv': ['mau', 'bom', 'bom', 'mau', 'bom', 'bom', 'mau', 'bom', 'mau', 'mau', 'bom', 'mau', 'bom', 'mau', 'bom', 'mau', 'bom'],\n",
    "    'encontro': ['sim', 'nao', 'sim', 'nao', 'sim', 'nao', 'nao', 'nao', 'nao', 'sim', 'sim', 'sim', 'sim', 'sim', 'nao', 'nao', 'nao']\n",
    "}"
   ]
  },
  {
   "cell_type": "code",
   "execution_count": 10,
   "metadata": {},
   "outputs": [
    {
     "name": "stdout",
     "output_type": "stream",
     "text": [
      "   tipo_dia_fim_semana  tipo_dia_semana  tipo_encontro_disco  \\\n",
      "0                False             True                False   \n",
      "1                False             True                False   \n",
      "2                False             True                False   \n",
      "3                False             True                False   \n",
      "4                False             True                False   \n",
      "\n",
      "   tipo_encontro_jantar  meteo_frio  meteo_quente  tv_bom  tv_mau  \\\n",
      "0                  True       False          True   False    True   \n",
      "1                  True        True         False    True   False   \n",
      "2                  True       False          True    True   False   \n",
      "3                  True        True         False   False    True   \n",
      "4                  True       False          True    True   False   \n",
      "\n",
      "   encontro_sim  \n",
      "0             1  \n",
      "1             0  \n",
      "2             1  \n",
      "3             0  \n",
      "4             1  \n",
      "\n",
      "Regras de Associação que preveem 'encontro_sim=1':\n",
      "                                          antecedents   support  confidence  \\\n",
      "6          (tipo_encontro_disco, tipo_dia_fim_semana)  0.235294    1.000000   \n",
      "41  (meteo_frio, tipo_encontro_disco, tipo_dia_fim...  0.117647    1.000000   \n",
      "45  (meteo_quente, tipo_encontro_disco, tipo_dia_f...  0.117647    1.000000   \n",
      "48  (tipo_dia_fim_semana, tipo_encontro_disco, tv_...  0.117647    1.000000   \n",
      "51  (tv_mau, tipo_encontro_disco, tipo_dia_fim_sem...  0.117647    1.000000   \n",
      "53        (meteo_quente, tv_mau, tipo_dia_fim_semana)  0.117647    1.000000   \n",
      "61  (meteo_quente, tipo_encontro_jantar, tipo_dia_...  0.176471    1.000000   \n",
      "82       (meteo_quente, tv_mau, tipo_encontro_jantar)  0.117647    1.000000   \n",
      "87  (meteo_quente, tv_bom, tipo_encontro_jantar, t...  0.117647    1.000000   \n",
      "32               (meteo_quente, tipo_encontro_jantar)  0.235294    0.800000   \n",
      "8                 (meteo_quente, tipo_dia_fim_semana)  0.176471    0.750000   \n",
      "11                      (tv_mau, tipo_dia_fim_semana)  0.176471    0.750000   \n",
      "37                             (meteo_quente, tv_mau)  0.176471    0.750000   \n",
      "2                                      (meteo_quente)  0.352941    0.666667   \n",
      "70    (tipo_encontro_jantar, tipo_dia_semana, tv_bom)  0.117647    0.666667   \n",
      "75            (meteo_quente, tipo_dia_semana, tv_bom)  0.117647    0.666667   \n",
      "79       (meteo_quente, tipo_encontro_jantar, tv_bom)  0.117647    0.666667   \n",
      "1                               (tipo_dia_fim_semana)  0.294118    0.625000   \n",
      "20            (tipo_encontro_jantar, tipo_dia_semana)  0.176471    0.600000   \n",
      "25                    (meteo_quente, tipo_dia_semana)  0.176471    0.600000   \n",
      "35                             (meteo_quente, tv_bom)  0.176471    0.600000   \n",
      "\n",
      "        lift  \n",
      "6   2.125000  \n",
      "41  2.125000  \n",
      "45  2.125000  \n",
      "48  2.125000  \n",
      "51  2.125000  \n",
      "53  2.125000  \n",
      "61  2.125000  \n",
      "82  2.125000  \n",
      "87  2.125000  \n",
      "32  1.700000  \n",
      "8   1.593750  \n",
      "11  1.593750  \n",
      "37  1.593750  \n",
      "2   1.416667  \n",
      "70  1.416667  \n",
      "75  1.416667  \n",
      "79  1.416667  \n",
      "1   1.328125  \n",
      "20  1.275000  \n",
      "25  1.275000  \n",
      "35  1.275000  \n"
     ]
    },
    {
     "name": "stderr",
     "output_type": "stream",
     "text": [
      "c:\\Users\\Avelino\\AppData\\Local\\Programs\\Python\\Python313\\Lib\\site-packages\\mlxtend\\frequent_patterns\\fpcommon.py:109: DeprecationWarning: DataFrames with non-bool types result in worse computationalperformance and their support might be discontinued in the future.Please use a DataFrame with bool type\n",
      "  warnings.warn(\n"
     ]
    }
   ],
   "source": [
    "# Criar o DataFrame com os dados\n",
    "df = pd.DataFrame(dados)\n",
    "\n",
    "# Codificar variáveis categóricas para binário\n",
    "df_encoded = pd.get_dummies(df.drop(columns=['encontro']))\n",
    "df_encoded['encontro_sim'] = (df['encontro'] == 'sim').astype(int)\n",
    "\n",
    "# Visualizar o DataFrame codificado\n",
    "print(df_encoded.head())\n",
    "\n",
    "# Gerar conjuntos frequentes com suporte mínimo de 0.1\n",
    "frequent_itemsets = apriori(df_encoded, min_support=0.1, use_colnames=True)\n",
    "\n",
    "# Gerar regras de associação com confiança mínima de 0.6\n",
    "rules = association_rules(frequent_itemsets, metric=\"confidence\", min_threshold=0.6)\n",
    "\n",
    "# Filtrar regras que preveem \"encontro_sim=1\" (sim)\n",
    "rules = rules[rules['consequents'] == {'encontro_sim'}]\n",
    "\n",
    "# Ordenar as regras por lift e confidence\n",
    "rules = rules.sort_values(['lift', 'confidence'], ascending=False)\n",
    "\n",
    "# Mostrar as regras\n",
    "print(\"\\nRegras de Associação que preveem 'encontro_sim=1':\")\n",
    "print(rules[['antecedents', 'support', 'confidence', 'lift']])"
   ]
  }
 ],
 "metadata": {
  "kernelspec": {
   "display_name": "Python 3",
   "language": "python",
   "name": "python3"
  },
  "language_info": {
   "codemirror_mode": {
    "name": "ipython",
    "version": 3
   },
   "file_extension": ".py",
   "mimetype": "text/x-python",
   "name": "python",
   "nbconvert_exporter": "python",
   "pygments_lexer": "ipython3",
   "version": "3.13.0"
  }
 },
 "nbformat": 4,
 "nbformat_minor": 2
}
