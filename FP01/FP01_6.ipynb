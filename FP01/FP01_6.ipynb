{
 "cells": [
  {
   "cell_type": "code",
   "execution_count": 7,
   "metadata": {},
   "outputs": [],
   "source": [
    "import pandas as pd\n",
    "from scipy.io import arff"
   ]
  },
  {
   "cell_type": "code",
   "execution_count": 9,
   "metadata": {},
   "outputs": [],
   "source": [
    "# Carregar o ficheiro ARFF\n",
    "data, meta = arff.loadarff('data/supermarket.arff')"
   ]
  },
  {
   "cell_type": "code",
   "execution_count": 10,
   "metadata": {},
   "outputs": [],
   "source": [
    "# Converter para DataFrame do Pandas\n",
    "df = pd.DataFrame(data)"
   ]
  },
  {
   "cell_type": "code",
   "execution_count": 11,
   "metadata": {},
   "outputs": [
    {
     "name": "stdout",
     "output_type": "stream",
     "text": [
      "  department1 department2 department3 department4 department5 department6  \\\n",
      "0        b'?'        b'?'        b'?'        b'?'        b'?'        b'?'   \n",
      "1        b't'        b'?'        b'?'        b'?'        b'?'        b'?'   \n",
      "2        b'?'        b'?'        b'?'        b'?'        b'?'        b'?'   \n",
      "3        b't'        b'?'        b'?'        b'?'        b'?'        b'?'   \n",
      "4        b'?'        b'?'        b'?'        b'?'        b'?'        b'?'   \n",
      "\n",
      "  department7 department8 department9 grocery misc  ... department208  \\\n",
      "0        b'?'        b'?'        b'?'         b'?'  ...          b'?'   \n",
      "1        b'?'        b'?'        b'?'         b'?'  ...          b'?'   \n",
      "2        b'?'        b'?'        b'?'         b'?'  ...          b'?'   \n",
      "3        b'?'        b'?'        b'?'         b'?'  ...          b'?'   \n",
      "4        b'?'        b'?'        b'?'         b'?'  ...          b'?'   \n",
      "\n",
      "  department209 department210 department211 department212 department213  \\\n",
      "0          b'?'          b'?'          b'?'          b'?'          b'?'   \n",
      "1          b'?'          b'?'          b'?'          b'?'          b'?'   \n",
      "2          b'?'          b'?'          b'?'          b'?'          b'?'   \n",
      "3          b'?'          b'?'          b'?'          b'?'          b'?'   \n",
      "4          b'?'          b'?'          b'?'          b'?'          b'?'   \n",
      "\n",
      "  department214 department215 department216    total  \n",
      "0          b'?'          b'?'          b'?'  b'high'  \n",
      "1          b'?'          b'?'          b'?'   b'low'  \n",
      "2          b'?'          b'?'          b'?'   b'low'  \n",
      "3          b'?'          b'?'          b'?'   b'low'  \n",
      "4          b'?'          b'?'          b'?'   b'low'  \n",
      "\n",
      "[5 rows x 217 columns]\n"
     ]
    }
   ],
   "source": [
    "# Verificar as primeiras linhas do DataFrame\n",
    "print(df.head())"
   ]
  }
 ],
 "metadata": {
  "kernelspec": {
   "display_name": "Python 3",
   "language": "python",
   "name": "python3"
  },
  "language_info": {
   "codemirror_mode": {
    "name": "ipython",
    "version": 3
   },
   "file_extension": ".py",
   "mimetype": "text/x-python",
   "name": "python",
   "nbconvert_exporter": "python",
   "pygments_lexer": "ipython3",
   "version": "3.13.0"
  }
 },
 "nbformat": 4,
 "nbformat_minor": 2
}
