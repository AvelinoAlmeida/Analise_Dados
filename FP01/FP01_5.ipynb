{
 "cells": [
  {
   "cell_type": "code",
   "execution_count": 23,
   "metadata": {},
   "outputs": [],
   "source": [
    "import pandas as pd\n",
    "from mlxtend.frequent_patterns import apriori, association_rules"
   ]
  },
  {
   "cell_type": "code",
   "execution_count": 24,
   "metadata": {},
   "outputs": [],
   "source": [
    "df = pd.read_csv('data/online_retail_final.csv', delimiter=';')"
   ]
  },
  {
   "cell_type": "code",
   "execution_count": 25,
   "metadata": {},
   "outputs": [
    {
     "name": "stdout",
     "output_type": "stream",
     "text": [
      "  FATURAS   4 PURPLE FLOCK DINNER CANDLES   SET 2 TEA TOWELS I LOVE LONDON   \\\n",
      "0  536365                               0                                 0   \n",
      "1  536366                               0                                 0   \n",
      "2  536367                               0                                 0   \n",
      "3  536368                               0                                 0   \n",
      "4  536369                               0                                 0   \n",
      "\n",
      "   10 COLOUR SPACEBOY PEN  12 DAISY PEGS IN WOOD BOX  \\\n",
      "0                       0                          0   \n",
      "1                       0                          0   \n",
      "2                       0                          0   \n",
      "3                       0                          0   \n",
      "4                       0                          0   \n",
      "\n",
      "   12 MESSAGE CARDS WITH ENVELOPES  12 PENCIL SMALL TUBE WOODLAND  \\\n",
      "0                                0                              0   \n",
      "1                                0                              0   \n",
      "2                                0                              0   \n",
      "3                                0                              0   \n",
      "4                                0                              0   \n",
      "\n",
      "   12 PENCILS SMALL TUBE SKULL  12 PENCILS TALL TUBE SKULLS  \\\n",
      "0                            0                            0   \n",
      "1                            0                            0   \n",
      "2                            0                            0   \n",
      "3                            0                            0   \n",
      "4                            0                            0   \n",
      "\n",
      "   3 HOOK HANGER MAGIC GARDEN  ...  6 RIBBONS SHIMMERING PINKS   \\\n",
      "0                           0  ...                            0   \n",
      "1                           0  ...                            0   \n",
      "2                           0  ...                            0   \n",
      "3                           0  ...                            0   \n",
      "4                           0  ...                            0   \n",
      "\n",
      "   60 CAKE CASES DOLLY GIRL DESIGN  60 CAKE CASES VINTAGE CHRISTMAS  \\\n",
      "0                                0                                0   \n",
      "1                                0                                0   \n",
      "2                                0                                0   \n",
      "3                                0                                0   \n",
      "4                                0                                0   \n",
      "\n",
      "   60 TEATIME FAIRY CAKE CASES  72 SWEETHEART FAIRY CAKE CASES  \\\n",
      "0                            0                               0   \n",
      "1                            0                               0   \n",
      "2                            0                               0   \n",
      "3                            0                               0   \n",
      "4                            0                               0   \n",
      "\n",
      "   ADVENT CALENDAR GINGHAM SACK  AGED GLASS SILVER T-LIGHT HOLDER  \\\n",
      "0                             0                                 0   \n",
      "1                             0                                 0   \n",
      "2                             0                                 0   \n",
      "3                             0                                 0   \n",
      "4                             0                                 0   \n",
      "\n",
      "   AIRLINE BAG VINTAGE JET SET WHITE  AIRLINE BAG VINTAGE TOKYO 78  \\\n",
      "0                                  0                             0   \n",
      "1                                  0                             0   \n",
      "2                                  0                             0   \n",
      "3                                  0                             0   \n",
      "4                                  0                             0   \n",
      "\n",
      "   AIRLINE BAG VINTAGE WORLD CHAMPION   \n",
      "0                                    0  \n",
      "1                                    0  \n",
      "2                                    0  \n",
      "3                                    0  \n",
      "4                                    0  \n",
      "\n",
      "[5 rows x 37 columns]\n",
      "Index(['FATURAS', ' 4 PURPLE FLOCK DINNER CANDLES',\n",
      "       ' SET 2 TEA TOWELS I LOVE LONDON ', '10 COLOUR SPACEBOY PEN',\n",
      "       '12 DAISY PEGS IN WOOD BOX', '12 MESSAGE CARDS WITH ENVELOPES',\n",
      "       '12 PENCIL SMALL TUBE WOODLAND', '12 PENCILS SMALL TUBE SKULL',\n",
      "       '12 PENCILS TALL TUBE SKULLS', '3 HOOK HANGER MAGIC GARDEN',\n",
      "       '3 PIECE SPACEBOY COOKIE CUTTER SET', '3 STRIPEY MICE FELTCRAFT',\n",
      "       '3 TIER CAKE TIN GREEN AND CREAM', '3 TIER CAKE TIN RED AND CREAM',\n",
      "       '36 FOIL HEART CAKE CASES', '36 FOIL STAR CAKE CASES ',\n",
      "       '36 PENCILS TUBE RED RETROSPOT', '36 PENCILS TUBE WOODLAND',\n",
      "       '3D CHRISTMAS STAMPS STICKERS ', '3D DOG PICTURE PLAYING CARDS',\n",
      "       '4 IVORY DINNER CANDLES SILVER FLOCK', '4 TRADITIONAL SPINNING TOPS',\n",
      "       '5 HOOK HANGER MAGIC TOADSTOOL', '5 HOOK HANGER RED MAGIC TOADSTOOL',\n",
      "       '5 STRAND GLASS NECKLACE CRYSTAL', '6 RIBBONS ELEGANT CHRISTMAS ',\n",
      "       '6 RIBBONS RUSTIC CHARM', '6 RIBBONS SHIMMERING PINKS ',\n",
      "       '60 CAKE CASES DOLLY GIRL DESIGN', '60 CAKE CASES VINTAGE CHRISTMAS',\n",
      "       '60 TEATIME FAIRY CAKE CASES', '72 SWEETHEART FAIRY CAKE CASES',\n",
      "       'ADVENT CALENDAR GINGHAM SACK', 'AGED GLASS SILVER T-LIGHT HOLDER',\n",
      "       'AIRLINE BAG VINTAGE JET SET WHITE', 'AIRLINE BAG VINTAGE TOKYO 78',\n",
      "       'AIRLINE BAG VINTAGE WORLD CHAMPION '],\n",
      "      dtype='object')\n"
     ]
    }
   ],
   "source": [
    "# Verificar as primeiras linhas do dataset e os nomes das colunas\n",
    "print(df.head())\n",
    "print(df.columns)"
   ]
  },
  {
   "cell_type": "code",
   "execution_count": 26,
   "metadata": {},
   "outputs": [
    {
     "name": "stdout",
     "output_type": "stream",
     "text": [
      "Index([' 4 PURPLE FLOCK DINNER CANDLES', ' SET 2 TEA TOWELS I LOVE LONDON ',\n",
      "       '10 COLOUR SPACEBOY PEN', '12 DAISY PEGS IN WOOD BOX',\n",
      "       '12 MESSAGE CARDS WITH ENVELOPES', '12 PENCIL SMALL TUBE WOODLAND',\n",
      "       '12 PENCILS SMALL TUBE SKULL', '12 PENCILS TALL TUBE SKULLS',\n",
      "       '3 HOOK HANGER MAGIC GARDEN', '3 PIECE SPACEBOY COOKIE CUTTER SET',\n",
      "       '3 STRIPEY MICE FELTCRAFT', '3 TIER CAKE TIN GREEN AND CREAM',\n",
      "       '3 TIER CAKE TIN RED AND CREAM', '36 FOIL HEART CAKE CASES',\n",
      "       '36 FOIL STAR CAKE CASES ', '36 PENCILS TUBE RED RETROSPOT',\n",
      "       '36 PENCILS TUBE WOODLAND', '3D CHRISTMAS STAMPS STICKERS ',\n",
      "       '3D DOG PICTURE PLAYING CARDS', '4 IVORY DINNER CANDLES SILVER FLOCK',\n",
      "       '4 TRADITIONAL SPINNING TOPS', '5 HOOK HANGER MAGIC TOADSTOOL',\n",
      "       '5 HOOK HANGER RED MAGIC TOADSTOOL', '5 STRAND GLASS NECKLACE CRYSTAL',\n",
      "       '6 RIBBONS ELEGANT CHRISTMAS ', '6 RIBBONS RUSTIC CHARM',\n",
      "       '6 RIBBONS SHIMMERING PINKS ', '60 CAKE CASES DOLLY GIRL DESIGN',\n",
      "       '60 CAKE CASES VINTAGE CHRISTMAS', '60 TEATIME FAIRY CAKE CASES',\n",
      "       '72 SWEETHEART FAIRY CAKE CASES', 'ADVENT CALENDAR GINGHAM SACK',\n",
      "       'AGED GLASS SILVER T-LIGHT HOLDER', 'AIRLINE BAG VINTAGE JET SET WHITE',\n",
      "       'AIRLINE BAG VINTAGE TOKYO 78', 'AIRLINE BAG VINTAGE WORLD CHAMPION '],\n",
      "      dtype='object')\n"
     ]
    }
   ],
   "source": [
    "# Remover a coluna 'FATURAS'\n",
    "df = df.drop(columns=['FATURAS'])\n",
    "\n",
    "# Verificar se a coluna foi removida corretamente\n",
    "print(df.columns)\n",
    "\n"
   ]
  },
  {
   "cell_type": "code",
   "execution_count": 27,
   "metadata": {},
   "outputs": [
    {
     "name": "stdout",
     "output_type": "stream",
     "text": [
      "Colunas numéricas disponíveis: Index([' 4 PURPLE FLOCK DINNER CANDLES', ' SET 2 TEA TOWELS I LOVE LONDON ',\n",
      "       '10 COLOUR SPACEBOY PEN', '12 DAISY PEGS IN WOOD BOX',\n",
      "       '12 MESSAGE CARDS WITH ENVELOPES', '12 PENCIL SMALL TUBE WOODLAND',\n",
      "       '12 PENCILS SMALL TUBE SKULL', '12 PENCILS TALL TUBE SKULLS',\n",
      "       '3 HOOK HANGER MAGIC GARDEN', '3 PIECE SPACEBOY COOKIE CUTTER SET',\n",
      "       '3 STRIPEY MICE FELTCRAFT', '3 TIER CAKE TIN GREEN AND CREAM',\n",
      "       '3 TIER CAKE TIN RED AND CREAM', '36 FOIL HEART CAKE CASES',\n",
      "       '36 FOIL STAR CAKE CASES ', '36 PENCILS TUBE RED RETROSPOT',\n",
      "       '36 PENCILS TUBE WOODLAND', '3D CHRISTMAS STAMPS STICKERS ',\n",
      "       '3D DOG PICTURE PLAYING CARDS', '4 IVORY DINNER CANDLES SILVER FLOCK',\n",
      "       '4 TRADITIONAL SPINNING TOPS', '5 HOOK HANGER MAGIC TOADSTOOL',\n",
      "       '5 HOOK HANGER RED MAGIC TOADSTOOL', '5 STRAND GLASS NECKLACE CRYSTAL',\n",
      "       '6 RIBBONS ELEGANT CHRISTMAS ', '6 RIBBONS RUSTIC CHARM',\n",
      "       '6 RIBBONS SHIMMERING PINKS ', '60 CAKE CASES DOLLY GIRL DESIGN',\n",
      "       '60 CAKE CASES VINTAGE CHRISTMAS', '60 TEATIME FAIRY CAKE CASES',\n",
      "       '72 SWEETHEART FAIRY CAKE CASES', 'ADVENT CALENDAR GINGHAM SACK',\n",
      "       'AGED GLASS SILVER T-LIGHT HOLDER', 'AIRLINE BAG VINTAGE JET SET WHITE',\n",
      "       'AIRLINE BAG VINTAGE TOKYO 78', 'AIRLINE BAG VINTAGE WORLD CHAMPION '],\n",
      "      dtype='object')\n"
     ]
    }
   ],
   "source": [
    "# Identificar colunas numéricas no dataset\n",
    "numeric_columns = df.select_dtypes(include=['float64', 'int64']).columns\n",
    "print(\"Colunas numéricas disponíveis:\", numeric_columns)\n",
    "\n"
   ]
  },
  {
   "cell_type": "code",
   "execution_count": 28,
   "metadata": {},
   "outputs": [],
   "source": [
    "# Definir os intervalos (bins) e rótulos para a transformação\n",
    "#bins = [0, 1, 10, 50, 100]  # Ajustar os intervalos conforme necessário\n",
    "#labels = ['Muito Baixo', 'Baixo', 'Médio', 'Alto']\n",
    "\n",
    "# Aplicar a transformação em todas as colunas numéricas\n",
    "#for col in df.columns:\n",
    "    #df[col + '_Nominal'] = pd.cut(df[col], bins=bins, labels=labels)\n",
    "\n",
    "# Verificar as novas colunas categorizadas\n",
    "#print(df.head())\n",
    "\n"
   ]
  },
  {
   "cell_type": "code",
   "execution_count": 31,
   "metadata": {},
   "outputs": [
    {
     "name": "stderr",
     "output_type": "stream",
     "text": [
      "c:\\Users\\Avelino\\AppData\\Local\\Programs\\Python\\Python313\\Lib\\site-packages\\mlxtend\\frequent_patterns\\fpcommon.py:109: DeprecationWarning: DataFrames with non-bool types result in worse computationalperformance and their support might be discontinued in the future.Please use a DataFrame with bool type\n",
      "  warnings.warn(\n"
     ]
    },
    {
     "ename": "ValueError",
     "evalue": "The allowed values for a DataFrame are True, False, 0, 1. Found value 2",
     "output_type": "error",
     "traceback": [
      "\u001b[1;31m---------------------------------------------------------------------------\u001b[0m",
      "\u001b[1;31mValueError\u001b[0m                                Traceback (most recent call last)",
      "Cell \u001b[1;32mIn[31], line 8\u001b[0m\n\u001b[0;32m      5\u001b[0m df_encoded \u001b[38;5;241m=\u001b[39m pd\u001b[38;5;241m.\u001b[39mget_dummies(df)\n\u001b[0;32m      7\u001b[0m \u001b[38;5;66;03m# Gerar conjuntos frequentes com suporte mínimo de 10% (ajustar conforme necessário)\u001b[39;00m\n\u001b[1;32m----> 8\u001b[0m frequent_itemsets \u001b[38;5;241m=\u001b[39m \u001b[43mapriori\u001b[49m\u001b[43m(\u001b[49m\u001b[43mdf_encoded\u001b[49m\u001b[43m,\u001b[49m\u001b[43m \u001b[49m\u001b[43mmin_support\u001b[49m\u001b[38;5;241;43m=\u001b[39;49m\u001b[38;5;241;43m1\u001b[39;49m\u001b[43m,\u001b[49m\u001b[43m \u001b[49m\u001b[43muse_colnames\u001b[49m\u001b[38;5;241;43m=\u001b[39;49m\u001b[38;5;28;43;01mTrue\u001b[39;49;00m\u001b[43m)\u001b[49m\n\u001b[0;32m     10\u001b[0m \u001b[38;5;66;03m# Gerar as regras de associação com base na confiança mínima de 60%\u001b[39;00m\n\u001b[0;32m     11\u001b[0m rules \u001b[38;5;241m=\u001b[39m association_rules(frequent_itemsets, metric\u001b[38;5;241m=\u001b[39m\u001b[38;5;124m\"\u001b[39m\u001b[38;5;124mconfidence\u001b[39m\u001b[38;5;124m\"\u001b[39m, min_threshold\u001b[38;5;241m=\u001b[39m\u001b[38;5;241m0.6\u001b[39m)\n",
      "File \u001b[1;32mc:\\Users\\Avelino\\AppData\\Local\\Programs\\Python\\Python313\\Lib\\site-packages\\mlxtend\\frequent_patterns\\apriori.py:241\u001b[0m, in \u001b[0;36mapriori\u001b[1;34m(df, min_support, use_colnames, max_len, verbose, low_memory)\u001b[0m\n\u001b[0;32m    234\u001b[0m \u001b[38;5;28;01mif\u001b[39;00m min_support \u001b[38;5;241m<\u001b[39m\u001b[38;5;241m=\u001b[39m \u001b[38;5;241m0.0\u001b[39m:\n\u001b[0;32m    235\u001b[0m     \u001b[38;5;28;01mraise\u001b[39;00m \u001b[38;5;167;01mValueError\u001b[39;00m(\n\u001b[0;32m    236\u001b[0m         \u001b[38;5;124m\"\u001b[39m\u001b[38;5;124m`min_support` must be a positive \u001b[39m\u001b[38;5;124m\"\u001b[39m\n\u001b[0;32m    237\u001b[0m         \u001b[38;5;124m\"\u001b[39m\u001b[38;5;124mnumber within the interval `(0, 1]`. \u001b[39m\u001b[38;5;124m\"\u001b[39m\n\u001b[0;32m    238\u001b[0m         \u001b[38;5;124m\"\u001b[39m\u001b[38;5;124mGot \u001b[39m\u001b[38;5;132;01m%s\u001b[39;00m\u001b[38;5;124m.\u001b[39m\u001b[38;5;124m\"\u001b[39m \u001b[38;5;241m%\u001b[39m min_support\n\u001b[0;32m    239\u001b[0m     )\n\u001b[1;32m--> 241\u001b[0m \u001b[43mfpc\u001b[49m\u001b[38;5;241;43m.\u001b[39;49m\u001b[43mvalid_input_check\u001b[49m\u001b[43m(\u001b[49m\u001b[43mdf\u001b[49m\u001b[43m)\u001b[49m\n\u001b[0;32m    243\u001b[0m \u001b[38;5;28;01mif\u001b[39;00m \u001b[38;5;28mhasattr\u001b[39m(df, \u001b[38;5;124m\"\u001b[39m\u001b[38;5;124msparse\u001b[39m\u001b[38;5;124m\"\u001b[39m):\n\u001b[0;32m    244\u001b[0m     \u001b[38;5;66;03m# DataFrame with SparseArray (pandas >= 0.24)\u001b[39;00m\n\u001b[0;32m    245\u001b[0m     \u001b[38;5;28;01mif\u001b[39;00m df\u001b[38;5;241m.\u001b[39msize \u001b[38;5;241m==\u001b[39m \u001b[38;5;241m0\u001b[39m:\n",
      "File \u001b[1;32mc:\\Users\\Avelino\\AppData\\Local\\Programs\\Python\\Python313\\Lib\\site-packages\\mlxtend\\frequent_patterns\\fpcommon.py:131\u001b[0m, in \u001b[0;36mvalid_input_check\u001b[1;34m(df)\u001b[0m\n\u001b[0;32m    126\u001b[0m val \u001b[38;5;241m=\u001b[39m values[\u001b[38;5;28mtuple\u001b[39m(loc[\u001b[38;5;241m0\u001b[39m] \u001b[38;5;28;01mfor\u001b[39;00m loc \u001b[38;5;129;01min\u001b[39;00m idxs)]\n\u001b[0;32m    127\u001b[0m s \u001b[38;5;241m=\u001b[39m (\n\u001b[0;32m    128\u001b[0m     \u001b[38;5;124m\"\u001b[39m\u001b[38;5;124mThe allowed values for a DataFrame\u001b[39m\u001b[38;5;124m\"\u001b[39m\n\u001b[0;32m    129\u001b[0m     \u001b[38;5;124m\"\u001b[39m\u001b[38;5;124m are True, False, 0, 1. Found value \u001b[39m\u001b[38;5;132;01m%s\u001b[39;00m\u001b[38;5;124m\"\u001b[39m \u001b[38;5;241m%\u001b[39m (val)\n\u001b[0;32m    130\u001b[0m )\n\u001b[1;32m--> 131\u001b[0m \u001b[38;5;28;01mraise\u001b[39;00m \u001b[38;5;167;01mValueError\u001b[39;00m(s)\n",
      "\u001b[1;31mValueError\u001b[0m: The allowed values for a DataFrame are True, False, 0, 1. Found value 2"
     ]
    }
   ],
   "source": [
    "import pandas as pd\n",
    "from mlxtend.frequent_patterns import apriori, association_rules\n",
    "\n",
    "# Pré-processamento: transformar as colunas nominais em variáveis binárias\n",
    "df_encoded = pd.get_dummies(df)\n",
    "\n",
    "# Gerar conjuntos frequentes com suporte mínimo de 10% (ajustar conforme necessário)\n",
    "frequent_itemsets = apriori(df_encoded, min_support=1, use_colnames=True)\n",
    "\n",
    "# Gerar as regras de associação com base na confiança mínima de 60%\n",
    "rules = association_rules(frequent_itemsets, metric=\"confidence\", min_threshold=0.6)\n",
    "\n",
    "# Filtrar as regras mais relevantes com base no \"lift\" (ajuda a identificar regras com correlação interessante)\n",
    "rules = rules[rules['lift'] > 1]\n",
    "\n",
    "# Exibir as regras geradas\n",
    "print(rules[['antecedents', 'consequents', 'support', 'confidence', 'lift']])\n"
   ]
  }
 ],
 "metadata": {
  "kernelspec": {
   "display_name": "Python 3",
   "language": "python",
   "name": "python3"
  },
  "language_info": {
   "codemirror_mode": {
    "name": "ipython",
    "version": 3
   },
   "file_extension": ".py",
   "mimetype": "text/x-python",
   "name": "python",
   "nbconvert_exporter": "python",
   "pygments_lexer": "ipython3",
   "version": "3.13.0"
  }
 },
 "nbformat": 4,
 "nbformat_minor": 2
}
