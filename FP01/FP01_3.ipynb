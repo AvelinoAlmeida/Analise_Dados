{
 "cells": [
  {
   "cell_type": "code",
   "execution_count": 15,
   "metadata": {},
   "outputs": [],
   "source": [
    "import pandas as pd "
   ]
  },
  {
   "cell_type": "code",
   "execution_count": 16,
   "metadata": {},
   "outputs": [],
   "source": [
    "# Carregar o dataset Titanic (substitui o caminho pelo local correto do ficheiro)\n",
    "df = pd.read_csv('data/Titanic.csv')"
   ]
  },
  {
   "cell_type": "code",
   "execution_count": 17,
   "metadata": {},
   "outputs": [],
   "source": [
    "# Transformar as variáveis 'Survived' e 'Pclass' em categorias\n",
    "df['Survived'] = df['Survived'].astype('category')\n",
    "df['Pclass'] = df['Pclass'].astype('category')"
   ]
  },
  {
   "cell_type": "code",
   "execution_count": 18,
   "metadata": {},
   "outputs": [
    {
     "name": "stdout",
     "output_type": "stream",
     "text": [
      "<class 'pandas.core.frame.DataFrame'>\n",
      "RangeIndex: 891 entries, 0 to 890\n",
      "Data columns (total 2 columns):\n",
      " #   Column    Non-Null Count  Dtype   \n",
      "---  ------    --------------  -----   \n",
      " 0   Survived  891 non-null    category\n",
      " 1   Pclass    891 non-null    category\n",
      "dtypes: category(2)\n",
      "memory usage: 2.1 KB\n",
      "None\n"
     ]
    }
   ],
   "source": [
    "# Verificar se as colunas foram transformadas corretamente\n",
    "print(df[['Survived', 'Pclass']].info())"
   ]
  },
  {
   "cell_type": "code",
   "execution_count": 19,
   "metadata": {},
   "outputs": [
    {
     "name": "stdout",
     "output_type": "stream",
     "text": [
      "Index([0, 1], dtype='int64')\n",
      "Index([1, 2, 3], dtype='int64')\n",
      "Survived\n",
      "0    549\n",
      "1    342\n",
      "Name: count, dtype: int64\n",
      "Pclass\n",
      "3    491\n",
      "1    216\n",
      "2    184\n",
      "Name: count, dtype: int64\n"
     ]
    }
   ],
   "source": [
    "# Verificar as categorias\n",
    "print(df['Survived'].cat.categories)\n",
    "print(df['Pclass'].cat.categories)\n",
    "\n",
    "# Verificar a distribuição de valores\n",
    "print(df['Survived'].value_counts())\n",
    "print(df['Pclass'].value_counts())\n"
   ]
  },
  {
   "cell_type": "code",
   "execution_count": 20,
   "metadata": {},
   "outputs": [
    {
     "name": "stdout",
     "output_type": "stream",
     "text": [
      "0\n"
     ]
    }
   ],
   "source": [
    "# Imputação com a mediana da idade sem usar inplace=True\n",
    "df['Age'] = df['Age'].fillna(df['Age'].median())\n",
    "\n",
    "# Verificar se os valores foram imputados corretamente\n",
    "print(df['Age'].isnull().sum())"
   ]
  },
  {
   "cell_type": "code",
   "execution_count": 21,
   "metadata": {},
   "outputs": [
    {
     "name": "stdout",
     "output_type": "stream",
     "text": [
      "  Survived Pclass     Sex   Age  SibSp  Parch     Fare Embarked\n",
      "0        0      3    male  22.0      1      0   7.2500        S\n",
      "1        1      1  female  38.0      1      0  71.2833        C\n",
      "2        1      3  female  26.0      0      0   7.9250        S\n",
      "3        1      1  female  35.0      1      0  53.1000        S\n",
      "4        0      3    male  35.0      0      0   8.0500        S\n"
     ]
    }
   ],
   "source": [
    "# Remover as colunas que não são relevantes para o modelo preditivo\n",
    "df = df.drop(columns=['Name', 'Ticket', 'PassengerId', 'Cabin'])\n",
    "\n",
    "# Verificar se as colunas foram removidas corretamente\n",
    "print(df.head())\n"
   ]
  },
  {
   "cell_type": "code",
   "execution_count": 23,
   "metadata": {},
   "outputs": [
    {
     "name": "stdout",
     "output_type": "stream",
     "text": [
      "Dataset salvo como 'titanic_preparado.csv'\n"
     ]
    }
   ],
   "source": [
    "# Guardar o dataset com um novo nome\n",
    "df.to_csv('data/titanic_preparado.csv', index=False)\n",
    "\n",
    "# Verificar se foi salvo corretamente\n",
    "print(\"Dataset salvo como 'titanic_preparado.csv'\")\n"
   ]
  }
 ],
 "metadata": {
  "kernelspec": {
   "display_name": "Python 3",
   "language": "python",
   "name": "python3"
  },
  "language_info": {
   "codemirror_mode": {
    "name": "ipython",
    "version": 3
   },
   "file_extension": ".py",
   "mimetype": "text/x-python",
   "name": "python",
   "nbconvert_exporter": "python",
   "pygments_lexer": "ipython3",
   "version": "3.13.0"
  }
 },
 "nbformat": 4,
 "nbformat_minor": 2
}
